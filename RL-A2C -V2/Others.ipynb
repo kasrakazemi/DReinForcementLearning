{
 "cells": [
  {
   "cell_type": "code",
   "execution_count": null,
   "metadata": {},
   "outputs": [],
   "source": [
    "######################## send email ##########################\n",
    "import smtplib\n",
    "email_address = 'chob_lebasi@yahoo.com'     \n",
    "Subject = 'Subject: Script Finish Notif\\n\\n'\n",
    "content = 'Train And Test Finished\\n\\n ' \n",
    "footer = ''     \n",
    "passcode = 'vlnfhegzquuexicz'        \n",
    "conn = smtplib.SMTP_SSL('smtp.mail.yahoo.com', 465) \n",
    "conn.ehlo()\n",
    "conn.login(email_address, passcode)\n",
    "conn.sendmail(email_address,\n",
    "              'kasrakazemi62@gmail.com',\n",
    "              Subject + content + footer)\n",
    "conn.quit()"
   ]
  },
  {
   "cell_type": "code",
   "execution_count": null,
   "metadata": {},
   "outputs": [],
   "source": [
    "!pip install dropbox"
   ]
  },
  {
   "cell_type": "code",
   "execution_count": null,
   "metadata": {},
   "outputs": [],
   "source": [
    "################## import file from dropbox #####################\n",
    "import dropbox\n",
    "dbx = dropbox.Dropbox('sl.BM1EkkfA6yDP3nfE3hLpAz1KyI0wEKB3CeHn4ujS0yyk9lK8OTN9YLE90yIYtugCKJD4XdaONnxVyws1NiwZhzzNazbKGhxV0kZnbFCu9FswQ_sZMx_7QW_0E8UvW4swXUCluI_zAWk')\n",
    "\n",
    "with open(\"LOB1000.zip\", \"wb\") as f:\n",
    "    metadata, res = dbx.files_download(path=\"/LOB_ov_Added_NQU22-CME_Vol1000_5-22-2022_07-29-2022.zip\")\n",
    "    f.write(res.content)"
   ]
  },
  {
   "cell_type": "code",
   "execution_count": null,
   "metadata": {},
   "outputs": [],
   "source": [
    "##################### unzip file ####################\n",
    "# importing required modules\n",
    "from zipfile import ZipFile\n",
    "\n",
    "# specifying the zip file name\n",
    "file_name = \"LOB1000.zip\"\n",
    "\n",
    "# opening the zip file in READ mode\n",
    "with ZipFile(file_name, 'r') as zip:\n",
    "\t# printing all the contents of the zip file\n",
    "\tzip.printdir()\n",
    "\n",
    "\t# extracting all the files\n",
    "\tprint('Extracting all the files now...')\n",
    "\tzip.extractall()\n",
    "\tprint('Done!')"
   ]
  },
  {
   "cell_type": "code",
   "execution_count": null,
   "metadata": {},
   "outputs": [],
   "source": [
    "##################### unzip file ####################\n",
    "!unzip filename"
   ]
  },
  {
   "cell_type": "code",
   "execution_count": null,
   "metadata": {},
   "outputs": [],
   "source": []
  }
 ],
 "metadata": {
  "kernelspec": {
   "display_name": "Python 3.9.7 64-bit",
   "language": "python",
   "name": "python3"
  },
  "language_info": {
   "name": "python",
   "version": "3.9.7"
  },
  "orig_nbformat": 4,
  "vscode": {
   "interpreter": {
    "hash": "c9c536b19a21ffe60d9c43d32b8b6f7a50add8e8ee3bec8d52140a04c4e5beb5"
   }
  }
 },
 "nbformat": 4,
 "nbformat_minor": 2
}
