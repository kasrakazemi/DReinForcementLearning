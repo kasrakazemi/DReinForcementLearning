{
  "cells": [
    {
      "cell_type": "code",
      "execution_count": 1,
      "metadata": {
        "colab": {
          "base_uri": "https://localhost:8080/"
        },
        "id": "dtAkSd_Xwh0l",
        "outputId": "b4da225c-f3e6-4c72-a3f7-37cb8d7eda67"
      },
      "outputs": [],
      "source": [
        "# !pip install numba & conda install cudatoolkit"
      ]
    },
    {
      "cell_type": "code",
      "execution_count": 3,
      "metadata": {
        "colab": {
          "base_uri": "https://localhost:8080/"
        },
        "id": "5w6fYuicsguT",
        "outputId": "9b17ea8c-26d9-41f0-b268-20cd6ab72567"
      },
      "outputs": [],
      "source": [
        "################# import libs #############\n",
        "\n",
        "from utils import *\n",
        "#from numba import jit, cuda\n"
      ]
    },
    {
      "cell_type": "code",
      "execution_count": 2,
      "metadata": {},
      "outputs": [
        {
          "name": "stdout",
          "output_type": "stream",
          "text": [
            "LOB Path:  C:/Users/kasra/Downloads/Ten-Surf/Tensurf-RL/tensurfrl/data/LOB_ov_Added_NQU22-CME_Vol1000_5-22-2022_07-29-2022.lob\n"
          ]
        }
      ],
      "source": [
        "# see data path\n",
        "print('LOB Path: ',NqPath)"
      ]
    },
    {
      "cell_type": "code",
      "execution_count": 3,
      "metadata": {},
      "outputs": [],
      "source": [
        "preProcessedData = lobPreprocessing(NqPath)\n",
        "trainData, testData, dataTrain, dataTest = preProcessedData.final()"
      ]
    },
    {
      "cell_type": "code",
      "execution_count": 4,
      "metadata": {},
      "outputs": [],
      "source": [
        "def string_to_nplist(x):\n",
        "\n",
        "    if pd.isnull(x):\n",
        "        return []\n",
        "    else:\n",
        "        \n",
        "        return np.array(ast.literal_eval(x))"
      ]
    },
    {
      "cell_type": "code",
      "execution_count": 5,
      "metadata": {},
      "outputs": [],
      "source": [
        "def read_data(file_name, col_names, col_list):\n",
        "\n",
        "    data = pd.read_csv(file_name, names=col_names, delimiter=\"|\")\n",
        "    \n",
        "    for col in col_list:\n",
        "        data[col] = data[col].apply(lambda x:  string_to_nplist(x))\n",
        "    data[\"DateTime\"] = pd.to_datetime(data[\"DateTime\"])\n",
        "    data.set_index([\"DateTime\"], inplace=True)\n",
        "\n",
        "    return data"
      ]
    },
    {
      "cell_type": "code",
      "execution_count": 6,
      "metadata": {},
      "outputs": [],
      "source": [
        "col_names =  [\"DateTime\",\"Open\",\"High\",\"Low\",\"Last\",\"Volume\",\"NumTrades\",\"BidVolume\",\"AskVolume\",\\\n",
        "            \"NumberOfBidTrades\",\"NumberOfAskTrades\",\"AskBidDiffHigh\",\"AskBidDiffLow\",\"AskBidNumTradesDiffHigh\",\"AskBidNumTradesDiffLow\",\\\n",
        "            \"UpDownVolDiffHigh\", \"UpDownVolDiffLow\",\"SumBid\",\"SumAsk\",\"BidPrices\",\"BidVolumes\",\"AskPrices\",\"AskVolumes\"]\n",
        "\n",
        "col_list = [\"BidPrices\",\"BidVolumes\",\"AskPrices\",\"AskVolumes\"]"
      ]
    },
    {
      "cell_type": "code",
      "execution_count": 7,
      "metadata": {},
      "outputs": [
        {
          "ename": "KeyboardInterrupt",
          "evalue": "",
          "output_type": "error",
          "traceback": [
            "\u001b[1;31m---------------------------------------------------------------------------\u001b[0m",
            "\u001b[1;31mKeyboardInterrupt\u001b[0m                         Traceback (most recent call last)",
            "\u001b[1;32mc:\\Users\\kasra\\Downloads\\Ten-Surf\\Tensurf-RL\\tensurfrl\\RL-A2C -V2\\Run-A2C.ipynb Cell 8\u001b[0m in \u001b[0;36m<cell line: 1>\u001b[1;34m()\u001b[0m\n\u001b[1;32m----> <a href='vscode-notebook-cell:/c%3A/Users/kasra/Downloads/Ten-Surf/Tensurf-RL/tensurfrl/RL-A2C%20-V2/Run-A2C.ipynb#X13sZmlsZQ%3D%3D?line=0'>1</a>\u001b[0m read_data(NqPath,col_names,col_list)\n",
            "\u001b[1;32mc:\\Users\\kasra\\Downloads\\Ten-Surf\\Tensurf-RL\\tensurfrl\\RL-A2C -V2\\Run-A2C.ipynb Cell 8\u001b[0m in \u001b[0;36mread_data\u001b[1;34m(file_name, col_names, col_list)\u001b[0m\n\u001b[0;32m      <a href='vscode-notebook-cell:/c%3A/Users/kasra/Downloads/Ten-Surf/Tensurf-RL/tensurfrl/RL-A2C%20-V2/Run-A2C.ipynb#X13sZmlsZQ%3D%3D?line=2'>3</a>\u001b[0m data \u001b[39m=\u001b[39m pd\u001b[39m.\u001b[39mread_csv(file_name, names\u001b[39m=\u001b[39mcol_names, delimiter\u001b[39m=\u001b[39m\u001b[39m\"\u001b[39m\u001b[39m|\u001b[39m\u001b[39m\"\u001b[39m)\n\u001b[0;32m      <a href='vscode-notebook-cell:/c%3A/Users/kasra/Downloads/Ten-Surf/Tensurf-RL/tensurfrl/RL-A2C%20-V2/Run-A2C.ipynb#X13sZmlsZQ%3D%3D?line=4'>5</a>\u001b[0m \u001b[39mfor\u001b[39;00m col \u001b[39min\u001b[39;00m col_list:\n\u001b[1;32m----> <a href='vscode-notebook-cell:/c%3A/Users/kasra/Downloads/Ten-Surf/Tensurf-RL/tensurfrl/RL-A2C%20-V2/Run-A2C.ipynb#X13sZmlsZQ%3D%3D?line=5'>6</a>\u001b[0m     data[col] \u001b[39m=\u001b[39m data[col]\u001b[39m.\u001b[39;49mapply(\u001b[39mlambda\u001b[39;49;00m x:  string_to_nplist(x))\n\u001b[0;32m      <a href='vscode-notebook-cell:/c%3A/Users/kasra/Downloads/Ten-Surf/Tensurf-RL/tensurfrl/RL-A2C%20-V2/Run-A2C.ipynb#X13sZmlsZQ%3D%3D?line=6'>7</a>\u001b[0m data[\u001b[39m\"\u001b[39m\u001b[39mDateTime\u001b[39m\u001b[39m\"\u001b[39m] \u001b[39m=\u001b[39m pd\u001b[39m.\u001b[39mto_datetime(data[\u001b[39m\"\u001b[39m\u001b[39mDateTime\u001b[39m\u001b[39m\"\u001b[39m])\n\u001b[0;32m      <a href='vscode-notebook-cell:/c%3A/Users/kasra/Downloads/Ten-Surf/Tensurf-RL/tensurfrl/RL-A2C%20-V2/Run-A2C.ipynb#X13sZmlsZQ%3D%3D?line=7'>8</a>\u001b[0m data\u001b[39m.\u001b[39mset_index([\u001b[39m\"\u001b[39m\u001b[39mDateTime\u001b[39m\u001b[39m\"\u001b[39m], inplace\u001b[39m=\u001b[39m\u001b[39mTrue\u001b[39;00m)\n",
            "File \u001b[1;32mc:\\Users\\kasra\\.conda\\envs\\Ai\\lib\\site-packages\\pandas\\core\\series.py:4433\u001b[0m, in \u001b[0;36mSeries.apply\u001b[1;34m(self, func, convert_dtype, args, **kwargs)\u001b[0m\n\u001b[0;32m   4323\u001b[0m \u001b[39mdef\u001b[39;00m \u001b[39mapply\u001b[39m(\n\u001b[0;32m   4324\u001b[0m     \u001b[39mself\u001b[39m,\n\u001b[0;32m   4325\u001b[0m     func: AggFuncType,\n\u001b[1;32m   (...)\u001b[0m\n\u001b[0;32m   4328\u001b[0m     \u001b[39m*\u001b[39m\u001b[39m*\u001b[39mkwargs,\n\u001b[0;32m   4329\u001b[0m ) \u001b[39m-\u001b[39m\u001b[39m>\u001b[39m DataFrame \u001b[39m|\u001b[39m Series:\n\u001b[0;32m   4330\u001b[0m     \u001b[39m\"\"\"\u001b[39;00m\n\u001b[0;32m   4331\u001b[0m \u001b[39m    Invoke function on values of Series.\u001b[39;00m\n\u001b[0;32m   4332\u001b[0m \n\u001b[1;32m   (...)\u001b[0m\n\u001b[0;32m   4431\u001b[0m \u001b[39m    dtype: float64\u001b[39;00m\n\u001b[0;32m   4432\u001b[0m \u001b[39m    \"\"\"\u001b[39;00m\n\u001b[1;32m-> 4433\u001b[0m     \u001b[39mreturn\u001b[39;00m SeriesApply(\u001b[39mself\u001b[39;49m, func, convert_dtype, args, kwargs)\u001b[39m.\u001b[39;49mapply()\n",
            "File \u001b[1;32mc:\\Users\\kasra\\.conda\\envs\\Ai\\lib\\site-packages\\pandas\\core\\apply.py:1088\u001b[0m, in \u001b[0;36mSeriesApply.apply\u001b[1;34m(self)\u001b[0m\n\u001b[0;32m   1084\u001b[0m \u001b[39mif\u001b[39;00m \u001b[39misinstance\u001b[39m(\u001b[39mself\u001b[39m\u001b[39m.\u001b[39mf, \u001b[39mstr\u001b[39m):\n\u001b[0;32m   1085\u001b[0m     \u001b[39m# if we are a string, try to dispatch\u001b[39;00m\n\u001b[0;32m   1086\u001b[0m     \u001b[39mreturn\u001b[39;00m \u001b[39mself\u001b[39m\u001b[39m.\u001b[39mapply_str()\n\u001b[1;32m-> 1088\u001b[0m \u001b[39mreturn\u001b[39;00m \u001b[39mself\u001b[39;49m\u001b[39m.\u001b[39;49mapply_standard()\n",
            "File \u001b[1;32mc:\\Users\\kasra\\.conda\\envs\\Ai\\lib\\site-packages\\pandas\\core\\apply.py:1143\u001b[0m, in \u001b[0;36mSeriesApply.apply_standard\u001b[1;34m(self)\u001b[0m\n\u001b[0;32m   1137\u001b[0m         values \u001b[39m=\u001b[39m obj\u001b[39m.\u001b[39mastype(\u001b[39mobject\u001b[39m)\u001b[39m.\u001b[39m_values\n\u001b[0;32m   1138\u001b[0m         \u001b[39m# error: Argument 2 to \"map_infer\" has incompatible type\u001b[39;00m\n\u001b[0;32m   1139\u001b[0m         \u001b[39m# \"Union[Callable[..., Any], str, List[Union[Callable[..., Any], str]],\u001b[39;00m\n\u001b[0;32m   1140\u001b[0m         \u001b[39m# Dict[Hashable, Union[Union[Callable[..., Any], str],\u001b[39;00m\n\u001b[0;32m   1141\u001b[0m         \u001b[39m# List[Union[Callable[..., Any], str]]]]]\"; expected\u001b[39;00m\n\u001b[0;32m   1142\u001b[0m         \u001b[39m# \"Callable[[Any], Any]\"\u001b[39;00m\n\u001b[1;32m-> 1143\u001b[0m         mapped \u001b[39m=\u001b[39m lib\u001b[39m.\u001b[39;49mmap_infer(\n\u001b[0;32m   1144\u001b[0m             values,\n\u001b[0;32m   1145\u001b[0m             f,  \u001b[39m# type: ignore[arg-type]\u001b[39;49;00m\n\u001b[0;32m   1146\u001b[0m             convert\u001b[39m=\u001b[39;49m\u001b[39mself\u001b[39;49m\u001b[39m.\u001b[39;49mconvert_dtype,\n\u001b[0;32m   1147\u001b[0m         )\n\u001b[0;32m   1149\u001b[0m \u001b[39mif\u001b[39;00m \u001b[39mlen\u001b[39m(mapped) \u001b[39mand\u001b[39;00m \u001b[39misinstance\u001b[39m(mapped[\u001b[39m0\u001b[39m], ABCSeries):\n\u001b[0;32m   1150\u001b[0m     \u001b[39m# GH#43986 Need to do list(mapped) in order to get treated as nested\u001b[39;00m\n\u001b[0;32m   1151\u001b[0m     \u001b[39m#  See also GH#25959 regarding EA support\u001b[39;00m\n\u001b[0;32m   1152\u001b[0m     \u001b[39mreturn\u001b[39;00m obj\u001b[39m.\u001b[39m_constructor_expanddim(\u001b[39mlist\u001b[39m(mapped), index\u001b[39m=\u001b[39mobj\u001b[39m.\u001b[39mindex)\n",
            "File \u001b[1;32mc:\\Users\\kasra\\.conda\\envs\\Ai\\lib\\site-packages\\pandas\\_libs\\lib.pyx:2870\u001b[0m, in \u001b[0;36mpandas._libs.lib.map_infer\u001b[1;34m()\u001b[0m\n",
            "\u001b[1;32mc:\\Users\\kasra\\Downloads\\Ten-Surf\\Tensurf-RL\\tensurfrl\\RL-A2C -V2\\Run-A2C.ipynb Cell 8\u001b[0m in \u001b[0;36mread_data.<locals>.<lambda>\u001b[1;34m(x)\u001b[0m\n\u001b[0;32m      <a href='vscode-notebook-cell:/c%3A/Users/kasra/Downloads/Ten-Surf/Tensurf-RL/tensurfrl/RL-A2C%20-V2/Run-A2C.ipynb#X13sZmlsZQ%3D%3D?line=2'>3</a>\u001b[0m data \u001b[39m=\u001b[39m pd\u001b[39m.\u001b[39mread_csv(file_name, names\u001b[39m=\u001b[39mcol_names, delimiter\u001b[39m=\u001b[39m\u001b[39m\"\u001b[39m\u001b[39m|\u001b[39m\u001b[39m\"\u001b[39m)\n\u001b[0;32m      <a href='vscode-notebook-cell:/c%3A/Users/kasra/Downloads/Ten-Surf/Tensurf-RL/tensurfrl/RL-A2C%20-V2/Run-A2C.ipynb#X13sZmlsZQ%3D%3D?line=4'>5</a>\u001b[0m \u001b[39mfor\u001b[39;00m col \u001b[39min\u001b[39;00m col_list:\n\u001b[1;32m----> <a href='vscode-notebook-cell:/c%3A/Users/kasra/Downloads/Ten-Surf/Tensurf-RL/tensurfrl/RL-A2C%20-V2/Run-A2C.ipynb#X13sZmlsZQ%3D%3D?line=5'>6</a>\u001b[0m     data[col] \u001b[39m=\u001b[39m data[col]\u001b[39m.\u001b[39mapply(\u001b[39mlambda\u001b[39;00m x:  string_to_nplist(x))\n\u001b[0;32m      <a href='vscode-notebook-cell:/c%3A/Users/kasra/Downloads/Ten-Surf/Tensurf-RL/tensurfrl/RL-A2C%20-V2/Run-A2C.ipynb#X13sZmlsZQ%3D%3D?line=6'>7</a>\u001b[0m data[\u001b[39m\"\u001b[39m\u001b[39mDateTime\u001b[39m\u001b[39m\"\u001b[39m] \u001b[39m=\u001b[39m pd\u001b[39m.\u001b[39mto_datetime(data[\u001b[39m\"\u001b[39m\u001b[39mDateTime\u001b[39m\u001b[39m\"\u001b[39m])\n\u001b[0;32m      <a href='vscode-notebook-cell:/c%3A/Users/kasra/Downloads/Ten-Surf/Tensurf-RL/tensurfrl/RL-A2C%20-V2/Run-A2C.ipynb#X13sZmlsZQ%3D%3D?line=7'>8</a>\u001b[0m data\u001b[39m.\u001b[39mset_index([\u001b[39m\"\u001b[39m\u001b[39mDateTime\u001b[39m\u001b[39m\"\u001b[39m], inplace\u001b[39m=\u001b[39m\u001b[39mTrue\u001b[39;00m)\n",
            "\u001b[1;32mc:\\Users\\kasra\\Downloads\\Ten-Surf\\Tensurf-RL\\tensurfrl\\RL-A2C -V2\\Run-A2C.ipynb Cell 8\u001b[0m in \u001b[0;36mstring_to_nplist\u001b[1;34m(x)\u001b[0m\n\u001b[0;32m      <a href='vscode-notebook-cell:/c%3A/Users/kasra/Downloads/Ten-Surf/Tensurf-RL/tensurfrl/RL-A2C%20-V2/Run-A2C.ipynb#X13sZmlsZQ%3D%3D?line=3'>4</a>\u001b[0m     \u001b[39mreturn\u001b[39;00m []\n\u001b[0;32m      <a href='vscode-notebook-cell:/c%3A/Users/kasra/Downloads/Ten-Surf/Tensurf-RL/tensurfrl/RL-A2C%20-V2/Run-A2C.ipynb#X13sZmlsZQ%3D%3D?line=4'>5</a>\u001b[0m \u001b[39melse\u001b[39;00m:\n\u001b[1;32m----> <a href='vscode-notebook-cell:/c%3A/Users/kasra/Downloads/Ten-Surf/Tensurf-RL/tensurfrl/RL-A2C%20-V2/Run-A2C.ipynb#X13sZmlsZQ%3D%3D?line=6'>7</a>\u001b[0m     \u001b[39mreturn\u001b[39;00m np\u001b[39m.\u001b[39marray(ast\u001b[39m.\u001b[39;49mliteral_eval(x))\n",
            "File \u001b[1;32mc:\\Users\\kasra\\.conda\\envs\\Ai\\lib\\ast.py:59\u001b[0m, in \u001b[0;36mliteral_eval\u001b[1;34m(node_or_string)\u001b[0m\n\u001b[0;32m     52\u001b[0m \u001b[39m\"\"\"\u001b[39;00m\n\u001b[0;32m     53\u001b[0m \u001b[39mSafely evaluate an expression node or a string containing a Python\u001b[39;00m\n\u001b[0;32m     54\u001b[0m \u001b[39mexpression.  The string or node provided may only consist of the following\u001b[39;00m\n\u001b[0;32m     55\u001b[0m \u001b[39mPython literal structures: strings, bytes, numbers, tuples, lists, dicts,\u001b[39;00m\n\u001b[0;32m     56\u001b[0m \u001b[39msets, booleans, and None.\u001b[39;00m\n\u001b[0;32m     57\u001b[0m \u001b[39m\"\"\"\u001b[39;00m\n\u001b[0;32m     58\u001b[0m \u001b[39mif\u001b[39;00m \u001b[39misinstance\u001b[39m(node_or_string, \u001b[39mstr\u001b[39m):\n\u001b[1;32m---> 59\u001b[0m     node_or_string \u001b[39m=\u001b[39m parse(node_or_string, mode\u001b[39m=\u001b[39;49m\u001b[39m'\u001b[39;49m\u001b[39meval\u001b[39;49m\u001b[39m'\u001b[39;49m)\n\u001b[0;32m     60\u001b[0m \u001b[39mif\u001b[39;00m \u001b[39misinstance\u001b[39m(node_or_string, Expression):\n\u001b[0;32m     61\u001b[0m     node_or_string \u001b[39m=\u001b[39m node_or_string\u001b[39m.\u001b[39mbody\n",
            "\u001b[1;31mKeyboardInterrupt\u001b[0m: "
          ]
        }
      ],
      "source": [
        "read_data(NqPath,col_names,col_list)"
      ]
    },
    {
      "cell_type": "code",
      "execution_count": null,
      "metadata": {},
      "outputs": [],
      "source": []
    },
    {
      "cell_type": "code",
      "execution_count": 5,
      "metadata": {
        "colab": {
          "base_uri": "https://localhost:8080/"
        },
        "id": "f8aeEL-nu6Od",
        "outputId": "a789e46e-eb88-4086-e6c9-b0b5f0769fa7"
      },
      "outputs": [
        {
          "name": "stdout",
          "output_type": "stream",
          "text": [
            "A2C updated\n"
          ]
        },
        {
          "ename": "ValueError",
          "evalue": "in user code:\n\n    File \"c:\\Users\\kasra\\.conda\\envs\\Ai\\lib\\site-packages\\keras\\engine\\training.py\", line 1051, in train_function  *\n        return step_function(self, iterator)\n    File \"c:\\Users\\kasra\\.conda\\envs\\Ai\\lib\\site-packages\\keras\\engine\\training.py\", line 1040, in step_function  **\n        outputs = model.distribute_strategy.run(run_step, args=(data,))\n    File \"c:\\Users\\kasra\\.conda\\envs\\Ai\\lib\\site-packages\\keras\\engine\\training.py\", line 1030, in run_step  **\n        outputs = model.train_step(data)\n    File \"c:\\Users\\kasra\\.conda\\envs\\Ai\\lib\\site-packages\\keras\\engine\\training.py\", line 889, in train_step\n        y_pred = self(x, training=True)\n    File \"c:\\Users\\kasra\\.conda\\envs\\Ai\\lib\\site-packages\\keras\\utils\\traceback_utils.py\", line 67, in error_handler\n        raise e.with_traceback(filtered_tb) from None\n    File \"c:\\Users\\kasra\\.conda\\envs\\Ai\\lib\\site-packages\\keras\\engine\\input_spec.py\", line 200, in assert_input_compatibility\n        raise ValueError(f'Layer \"{layer_name}\" expects {len(input_spec)} input(s),'\n\n    ValueError: Layer \"sequential\" expects 1 input(s), but it received 16 input tensors. Inputs received: [<tf.Tensor 'IteratorGetNext:0' shape=(None, 40) dtype=float32>, <tf.Tensor 'IteratorGetNext:1' shape=(None, 40) dtype=float32>, <tf.Tensor 'IteratorGetNext:2' shape=(None, 40) dtype=float32>, <tf.Tensor 'IteratorGetNext:3' shape=(None, 40) dtype=float32>, <tf.Tensor 'IteratorGetNext:4' shape=(None, 40) dtype=float32>, <tf.Tensor 'IteratorGetNext:5' shape=(None, 40) dtype=float32>, <tf.Tensor 'IteratorGetNext:6' shape=(None, 40) dtype=float32>, <tf.Tensor 'IteratorGetNext:7' shape=(None, 40) dtype=float32>, <tf.Tensor 'IteratorGetNext:8' shape=(None, 40) dtype=float32>, <tf.Tensor 'IteratorGetNext:9' shape=(None, 40) dtype=float32>, <tf.Tensor 'IteratorGetNext:10' shape=(None, 40) dtype=float32>, <tf.Tensor 'IteratorGetNext:11' shape=(None, 40) dtype=float32>, <tf.Tensor 'IteratorGetNext:12' shape=(None, 40) dtype=float32>, <tf.Tensor 'IteratorGetNext:13' shape=(None, 40) dtype=float32>, <tf.Tensor 'IteratorGetNext:14' shape=(None, 40) dtype=float32>, <tf.Tensor 'IteratorGetNext:15' shape=(None, 40) dtype=float32>]\n",
          "output_type": "error",
          "traceback": [
            "\u001b[1;31m---------------------------------------------------------------------------\u001b[0m",
            "\u001b[1;31mValueError\u001b[0m                                Traceback (most recent call last)",
            "\u001b[1;32mc:\\Users\\kasra\\Downloads\\Ten-Surf\\Tensurf-RL\\tensurfrl\\RL-A2C -1000\\Run-A2C.ipynb Cell 5\u001b[0m in \u001b[0;36m<cell line: 31>\u001b[1;34m()\u001b[0m\n\u001b[0;32m     <a href='vscode-notebook-cell:/c%3A/Users/kasra/Downloads/Ten-Surf/Tensurf-RL/tensurfrl/RL-A2C%20-1000/Run-A2C.ipynb#W4sZmlsZQ%3D%3D?line=74'>75</a>\u001b[0m \u001b[39mprint\u001b[39m(\u001b[39m\"\u001b[39m\u001b[39mA2C updated\u001b[39m\u001b[39m\"\u001b[39m)\n\u001b[0;32m     <a href='vscode-notebook-cell:/c%3A/Users/kasra/Downloads/Ten-Surf/Tensurf-RL/tensurfrl/RL-A2C%20-1000/Run-A2C.ipynb#W4sZmlsZQ%3D%3D?line=76'>77</a>\u001b[0m \u001b[39m# if epsilon > epsilonFinal:\u001b[39;00m\n\u001b[0;32m     <a href='vscode-notebook-cell:/c%3A/Users/kasra/Downloads/Ten-Surf/Tensurf-RL/tensurfrl/RL-A2C%20-1000/Run-A2C.ipynb#W4sZmlsZQ%3D%3D?line=77'>78</a>\u001b[0m \u001b[39m#    epsilon *= epsilonDecay\u001b[39;00m\n\u001b[1;32m---> <a href='vscode-notebook-cell:/c%3A/Users/kasra/Downloads/Ten-Surf/Tensurf-RL/tensurfrl/RL-A2C%20-1000/Run-A2C.ipynb#W4sZmlsZQ%3D%3D?line=79'>80</a>\u001b[0m Actor_model_main \u001b[39m=\u001b[39m Actor_model\u001b[39m.\u001b[39;49mtrain(memory,Actor_model_main)\n\u001b[0;32m     <a href='vscode-notebook-cell:/c%3A/Users/kasra/Downloads/Ten-Surf/Tensurf-RL/tensurfrl/RL-A2C%20-1000/Run-A2C.ipynb#W4sZmlsZQ%3D%3D?line=81'>82</a>\u001b[0m Critic_model_main \u001b[39m=\u001b[39m Critic_model\u001b[39m.\u001b[39mtrain(memory,Critic_model_main)\n\u001b[0;32m     <a href='vscode-notebook-cell:/c%3A/Users/kasra/Downloads/Ten-Surf/Tensurf-RL/tensurfrl/RL-A2C%20-1000/Run-A2C.ipynb#W4sZmlsZQ%3D%3D?line=83'>84</a>\u001b[0m memory \u001b[39m=\u001b[39m deque(maxlen \u001b[39m=\u001b[39m relayMemorySize)\n",
            "File \u001b[1;32mc:\\Users\\kasra\\Downloads\\Ten-Surf\\Tensurf-RL\\tensurfrl\\RL-A2C -1000\\utils\\Actor.py:47\u001b[0m, in \u001b[0;36mActor.train\u001b[1;34m(self, memory, model)\u001b[0m\n\u001b[0;32m     44\u001b[0m \u001b[39m#actions= [np.array(item[1]) for item in memory]\u001b[39;00m\n\u001b[0;32m     45\u001b[0m advantages\u001b[39m=\u001b[39m [item[\u001b[39m5\u001b[39m] \u001b[39mfor\u001b[39;00m item \u001b[39min\u001b[39;00m memory]\n\u001b[1;32m---> 47\u001b[0m model\u001b[39m.\u001b[39;49mfit(states, actions, sample_weight\u001b[39m=\u001b[39;49madvantages, epochs\u001b[39m=\u001b[39;49m\u001b[39m1\u001b[39;49m, verbose\u001b[39m=\u001b[39;49m\u001b[39m0\u001b[39;49m)\n\u001b[0;32m     48\u001b[0m \u001b[39m# for state,action,reward,next_state,td_target,advantage in memory:\u001b[39;00m\n\u001b[0;32m     49\u001b[0m    \n\u001b[0;32m     50\u001b[0m \u001b[39m#     with tf.GradientTape() as tape:\u001b[39;00m\n\u001b[1;32m   (...)\u001b[0m\n\u001b[0;32m     56\u001b[0m \u001b[39m#     grads = tape.gradient(loss, model.trainable_variables)\u001b[39;00m\n\u001b[0;32m     57\u001b[0m \u001b[39m#     self.opt.apply_gradients(zip(grads, model.trainable_variables))\u001b[39;00m\n\u001b[0;32m     59\u001b[0m \u001b[39mreturn\u001b[39;00m model\n",
            "File \u001b[1;32mc:\\Users\\kasra\\.conda\\envs\\Ai\\lib\\site-packages\\keras\\utils\\traceback_utils.py:67\u001b[0m, in \u001b[0;36mfilter_traceback.<locals>.error_handler\u001b[1;34m(*args, **kwargs)\u001b[0m\n\u001b[0;32m     65\u001b[0m \u001b[39mexcept\u001b[39;00m \u001b[39mException\u001b[39;00m \u001b[39mas\u001b[39;00m e:  \u001b[39m# pylint: disable=broad-except\u001b[39;00m\n\u001b[0;32m     66\u001b[0m   filtered_tb \u001b[39m=\u001b[39m _process_traceback_frames(e\u001b[39m.\u001b[39m__traceback__)\n\u001b[1;32m---> 67\u001b[0m   \u001b[39mraise\u001b[39;00m e\u001b[39m.\u001b[39mwith_traceback(filtered_tb) \u001b[39mfrom\u001b[39;00m \u001b[39mNone\u001b[39m\n\u001b[0;32m     68\u001b[0m \u001b[39mfinally\u001b[39;00m:\n\u001b[0;32m     69\u001b[0m   \u001b[39mdel\u001b[39;00m filtered_tb\n",
            "File \u001b[1;32m~\\AppData\\Local\\Temp\\__autograph_generated_file1cqa0rfj.py:15\u001b[0m, in \u001b[0;36mouter_factory.<locals>.inner_factory.<locals>.tf__train_function\u001b[1;34m(iterator)\u001b[0m\n\u001b[0;32m     13\u001b[0m \u001b[39mtry\u001b[39;00m:\n\u001b[0;32m     14\u001b[0m     do_return \u001b[39m=\u001b[39m \u001b[39mTrue\u001b[39;00m\n\u001b[1;32m---> 15\u001b[0m     retval_ \u001b[39m=\u001b[39m ag__\u001b[39m.\u001b[39mconverted_call(ag__\u001b[39m.\u001b[39mld(step_function), (ag__\u001b[39m.\u001b[39mld(\u001b[39mself\u001b[39m), ag__\u001b[39m.\u001b[39mld(iterator)), \u001b[39mNone\u001b[39;00m, fscope)\n\u001b[0;32m     16\u001b[0m \u001b[39mexcept\u001b[39;00m:\n\u001b[0;32m     17\u001b[0m     do_return \u001b[39m=\u001b[39m \u001b[39mFalse\u001b[39;00m\n",
            "\u001b[1;31mValueError\u001b[0m: in user code:\n\n    File \"c:\\Users\\kasra\\.conda\\envs\\Ai\\lib\\site-packages\\keras\\engine\\training.py\", line 1051, in train_function  *\n        return step_function(self, iterator)\n    File \"c:\\Users\\kasra\\.conda\\envs\\Ai\\lib\\site-packages\\keras\\engine\\training.py\", line 1040, in step_function  **\n        outputs = model.distribute_strategy.run(run_step, args=(data,))\n    File \"c:\\Users\\kasra\\.conda\\envs\\Ai\\lib\\site-packages\\keras\\engine\\training.py\", line 1030, in run_step  **\n        outputs = model.train_step(data)\n    File \"c:\\Users\\kasra\\.conda\\envs\\Ai\\lib\\site-packages\\keras\\engine\\training.py\", line 889, in train_step\n        y_pred = self(x, training=True)\n    File \"c:\\Users\\kasra\\.conda\\envs\\Ai\\lib\\site-packages\\keras\\utils\\traceback_utils.py\", line 67, in error_handler\n        raise e.with_traceback(filtered_tb) from None\n    File \"c:\\Users\\kasra\\.conda\\envs\\Ai\\lib\\site-packages\\keras\\engine\\input_spec.py\", line 200, in assert_input_compatibility\n        raise ValueError(f'Layer \"{layer_name}\" expects {len(input_spec)} input(s),'\n\n    ValueError: Layer \"sequential\" expects 1 input(s), but it received 16 input tensors. Inputs received: [<tf.Tensor 'IteratorGetNext:0' shape=(None, 40) dtype=float32>, <tf.Tensor 'IteratorGetNext:1' shape=(None, 40) dtype=float32>, <tf.Tensor 'IteratorGetNext:2' shape=(None, 40) dtype=float32>, <tf.Tensor 'IteratorGetNext:3' shape=(None, 40) dtype=float32>, <tf.Tensor 'IteratorGetNext:4' shape=(None, 40) dtype=float32>, <tf.Tensor 'IteratorGetNext:5' shape=(None, 40) dtype=float32>, <tf.Tensor 'IteratorGetNext:6' shape=(None, 40) dtype=float32>, <tf.Tensor 'IteratorGetNext:7' shape=(None, 40) dtype=float32>, <tf.Tensor 'IteratorGetNext:8' shape=(None, 40) dtype=float32>, <tf.Tensor 'IteratorGetNext:9' shape=(None, 40) dtype=float32>, <tf.Tensor 'IteratorGetNext:10' shape=(None, 40) dtype=float32>, <tf.Tensor 'IteratorGetNext:11' shape=(None, 40) dtype=float32>, <tf.Tensor 'IteratorGetNext:12' shape=(None, 40) dtype=float32>, <tf.Tensor 'IteratorGetNext:13' shape=(None, 40) dtype=float32>, <tf.Tensor 'IteratorGetNext:14' shape=(None, 40) dtype=float32>, <tf.Tensor 'IteratorGetNext:15' shape=(None, 40) dtype=float32>]\n"
          ]
        }
      ],
      "source": [
        "######################### Train Section ############################\n",
        "####################################################################\n",
        "\n",
        "\n",
        "################ data preprocessing  for forex STOCK ###########\n",
        "\n",
        "preProcessedData = lobPreprocessing(NqPath)\n",
        "trainData, testData, dataTrain, dataTest = preProcessedData.final()\n",
        "\n",
        "\n",
        "################## initialize models,memory and etc ##################\n",
        "       \n",
        "Actor_model = Actor(np.shape(trainData)[1], np.shape(outPutOfQ)[0])\n",
        "Actor_model_main= Actor_model.model\n",
        "\n",
        "Critic_model= Critic(np.shape(trainData)[1])\n",
        "Critic_model_main= Critic_model.model\n",
        "\n",
        "env = dict()\n",
        "memory = deque(maxlen = relayMemorySize)\n",
        "selectedAction = actions[random.randint(0, len(actions)-1)]\n",
        "\n",
        "# td_target_batch = []\n",
        "# advatnage_batch = []\n",
        "\n",
        "############################### gpu supporting########################\n",
        "#!@jit(target =\"cuda\")\n",
        "\n",
        "########################## Train loop #########################\n",
        "\n",
        "for i in range(len(trainData)-1):\n",
        "\n",
        "    ############################ current state #############\n",
        "    state = trainData[i, :]\n",
        "    \n",
        "    ########################### transition between state and action #####################\n",
        "    env_ = openOrClosePosition(env, selectedAction, i, dataTrain, margin,  Sl, Tp)   \n",
        "    env = env_.tradeCheck() \n",
        "\n",
        "    ################################## next observation #################                  \n",
        "    nextState = trainData[i+1, :] \n",
        "    \n",
        "    ################################# reward calculation ######\n",
        "    rewardCalculating = rewardCalculation(env, i, selectedAction, dataTrain, stepSwith = True)\n",
        "    reward = rewardCalculating.reward()\n",
        "    \n",
        "        \n",
        "    def td_targets(reward, next_state):\n",
        "\n",
        "        v_value = Critic_model_main.predict(\n",
        "        np.reshape(nextState,(1, np.shape(nextState)[0])),verbose=0)\n",
        "        \n",
        "        return (reward + (gamma * v_value))\n",
        "\n",
        "    def advatnages(td_target, baselines):\n",
        "    \n",
        "        return (td_target - baselines)\n",
        "\n",
        "\n",
        "    td_target = td_targets((reward) , nextState)\n",
        "    \n",
        "    advantage = advatnages(td_target, Critic_model_main.predict(np.reshape(state,(1, np.shape(state)[0])),verbose=0))\n",
        "   \n",
        "\n",
        "    ################################### saving to memory ###################\n",
        "    memory.append([state, actionConverting[actions.index(selectedAction)], reward, nextState,td_target,advantage])  \n",
        "\n",
        "    ########################## action selection ########################\n",
        "    \n",
        "    if len(memory) % batchSize==0:\n",
        "       \n",
        "        # trainer = updatinQtable(memory, batchSize, Q, gamma, nextState)\n",
        "        # Q = trainer.updating()\n",
        "        print(\"A2C updated\")\n",
        "        \n",
        "        # if epsilon > epsilonFinal:\n",
        "        #    epsilon *= epsilonDecay\n",
        "\n",
        "        Actor_model_main = Actor_model.train(memory,Actor_model_main)\n",
        "        \n",
        "        Critic_model_main = Critic_model.train(memory,Critic_model_main)\n",
        "\n",
        "        memory = deque(maxlen = relayMemorySize)\n",
        "        # td_target_batch = []\n",
        "        # advatnage_batch = []\n",
        "    \n",
        "    #####################  select action according to decided policy #####################\n",
        "\n",
        "    policy_ = policy(Actor_model_main, actions, state, epsilon)\n",
        "\n",
        "    selectedAction = policy_.actionSelection()\n",
        "    \n",
        "    \n",
        "    ############################# state updating ##########################\n",
        "    state = nextState\n",
        "\n",
        "    ############################## save models ##########################\n",
        "\n",
        "#Q.save(\"DQN.csv\")\n",
        "    \n"
      ]
    },
    {
      "cell_type": "code",
      "execution_count": null,
      "metadata": {},
      "outputs": [],
      "source": []
    },
    {
      "cell_type": "code",
      "execution_count": null,
      "metadata": {},
      "outputs": [
        {
          "name": "stderr",
          "output_type": "stream",
          "text": [
            "c:\\Users\\kasra\\Downloads\\Ten-Surf\\Tensurf-RL\\tensurfrl\\RL-A2C\\utils\\showTraderResults.py:127: UserWarning: color is redundantly defined by the 'color' keyword argument and the fmt string \"-ok\" (-> color='k'). The keyword argument will take precedence.\n",
            "  plt.plot(t, listOfMargin, '-ok', color=\"blue\", linewidth = 3)\n"
          ]
        },
        {
          "name": "stdout",
          "output_type": "stream",
          "text": [
            "{'numberOfTrades': 2, 'numberOfBuy': 0, 'numberOfSell': 1, 'numberOfPositveSell': 0, 'numberOfPositiveBuy': 0, 'profitInBuyTrades': 0, 'profitInSellTrades': 0, 'netProfit': -4.75, 'totallProfit': 0, 'totallLoss': -4.75, 'numberOfLossBuy': 0, 'lossInBuyTrades': 0, 'numberOfLossSell': 1, 'lossInSellTrades': -4.75, 'netBuy': 0, 'netSell': 4.75, 'winRate': 0.0, 'lossRate': 50.0}\n"
          ]
        },
        {
          "data": {
            "image/png": "[encoded data removed]",
            "text/plain": [
              "<Figure size 432x288 with 1 Axes>"
            ]
          },
          "metadata": {
            "needs_background": "light"
          },
          "output_type": "display_data"
        },
        {
          "data": {
            "image/png": "[encoded data removed]",
            "text/plain": [
              "<Figure size 432x288 with 1 Axes>"
            ]
          },
          "metadata": {
            "needs_background": "light"
          },
          "output_type": "display_data"
        }
      ],
      "source": [
        "################## show results #############################\n",
        "showTraderResults_ = showTraderResults(envTest, dataTest[\"Last\"].values)\n",
        "\n",
        "statements = showTraderResults_.final()\n",
        "\n",
        "print(statements)"
      ]
    },
    {
      "cell_type": "code",
      "execution_count": null,
      "metadata": {},
      "outputs": [],
      "source": []
    }
  ],
  "metadata": {
    "accelerator": "GPU",
    "colab": {
      "collapsed_sections": [],
      "machine_shape": "hm",
      "name": "Untitled13.ipynb",
      "provenance": []
    },
    "gpuClass": "standard",
    "kernelspec": {
      "display_name": "Python 3.8.13 ('Ai')",
      "language": "python",
      "name": "python3"
    },
    "language_info": {
      "codemirror_mode": {
        "name": "ipython",
        "version": 3
      },
      "file_extension": ".py",
      "mimetype": "text/x-python",
      "name": "python",
      "nbconvert_exporter": "python",
      "pygments_lexer": "ipython3",
      "version": "3.8.13"
    },
    "vscode": {
      "interpreter": {
        "hash": "1af19bf6d9b6220b63f9c4301657dd2793b9b571811340b99da04e342a11312b"
      }
    }
  },
  "nbformat": 4,
  "nbformat_minor": 0
}
