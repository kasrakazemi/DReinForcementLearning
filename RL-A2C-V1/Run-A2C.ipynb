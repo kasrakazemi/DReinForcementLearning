{
  "cells": [
    {
      "cell_type": "code",
      "execution_count": 1,
      "metadata": {
        "colab": {
          "base_uri": "https://localhost:8080/"
        },
        "id": "dtAkSd_Xwh0l",
        "outputId": "b4da225c-f3e6-4c72-a3f7-37cb8d7eda67"
      },
      "outputs": [],
      "source": [
        "# !pip install numba & conda install cudatoolkit"
      ]
    },
    {
      "cell_type": "code",
      "execution_count": 1,
      "metadata": {
        "colab": {
          "base_uri": "https://localhost:8080/"
        },
        "id": "5w6fYuicsguT",
        "outputId": "9b17ea8c-26d9-41f0-b268-20cd6ab72567"
      },
      "outputs": [],
      "source": [
        "################# import libs #############\n",
        "\n",
        "from utils import *\n",
        "#from numba import jit, cuda\n"
      ]
    },
    {
      "cell_type": "code",
      "execution_count": 2,
      "metadata": {},
      "outputs": [
        {
          "name": "stdout",
          "output_type": "stream",
          "text": [
            "LOB Path:  C:/Users/kasra/Downloads/Ten-Surf/Tensurf-RL/tensurfrl/data/LOB1, NQ, 1_1min.csv\n"
          ]
        }
      ],
      "source": [
        "# see data path\n",
        "print('LOB Path: ',NqPath)"
      ]
    },
    {
      "cell_type": "code",
      "execution_count": 3,
      "metadata": {},
      "outputs": [
        {
          "ename": "ParserError",
          "evalue": "Unknown string format: time,open,high,low,close,Volume,NumTrades,Bid_Volume,Ask_Volume,bid_number,ask_number,AskBidDiffHigh,AskBidDiffLow,AskBidNumTradesDiffHigh,AskBidNumTradesDiffLow,UpDownVolDiffHigh,UpDownVolDiffLow,sum_lob_bid,sum_lob_ask",
          "output_type": "error",
          "traceback": [
            "\u001b[1;31m---------------------------------------------------------------------------\u001b[0m",
            "\u001b[1;31mTypeError\u001b[0m                                 Traceback (most recent call last)",
            "File \u001b[1;32mc:\\Users\\kasra\\.conda\\envs\\Ai\\lib\\site-packages\\pandas\\core\\arrays\\datetimes.py:2236\u001b[0m, in \u001b[0;36mobjects_to_datetime64ns\u001b[1;34m(data, dayfirst, yearfirst, utc, errors, require_iso8601, allow_object, allow_mixed)\u001b[0m\n\u001b[0;32m   2235\u001b[0m \u001b[39mtry\u001b[39;00m:\n\u001b[1;32m-> 2236\u001b[0m     values, tz_parsed \u001b[39m=\u001b[39m conversion\u001b[39m.\u001b[39;49mdatetime_to_datetime64(data\u001b[39m.\u001b[39;49mravel(\u001b[39m\"\u001b[39;49m\u001b[39mK\u001b[39;49m\u001b[39m\"\u001b[39;49m))\n\u001b[0;32m   2237\u001b[0m     \u001b[39m# If tzaware, these values represent unix timestamps, so we\u001b[39;00m\n\u001b[0;32m   2238\u001b[0m     \u001b[39m#  return them as i8 to distinguish from wall times\u001b[39;00m\n",
            "File \u001b[1;32mc:\\Users\\kasra\\.conda\\envs\\Ai\\lib\\site-packages\\pandas\\_libs\\tslibs\\conversion.pyx:360\u001b[0m, in \u001b[0;36mpandas._libs.tslibs.conversion.datetime_to_datetime64\u001b[1;34m()\u001b[0m\n",
            "\u001b[1;31mTypeError\u001b[0m: Unrecognized value type: <class 'str'>",
            "\nDuring handling of the above exception, another exception occurred:\n",
            "\u001b[1;31mParserError\u001b[0m                               Traceback (most recent call last)",
            "\u001b[1;32mc:\\Users\\kasra\\Downloads\\Ten-Surf\\Tensurf-RL\\tensurfrl\\RL-A2C-V1\\Run-A2C.ipynb Cell 4\u001b[0m in \u001b[0;36m<cell line: 2>\u001b[1;34m()\u001b[0m\n\u001b[0;32m      <a href='vscode-notebook-cell:/c%3A/Users/kasra/Downloads/Ten-Surf/Tensurf-RL/tensurfrl/RL-A2C-V1/Run-A2C.ipynb#W3sZmlsZQ%3D%3D?line=0'>1</a>\u001b[0m preProcessedData \u001b[39m=\u001b[39m lobPreprocessing(NqPath)\n\u001b[1;32m----> <a href='vscode-notebook-cell:/c%3A/Users/kasra/Downloads/Ten-Surf/Tensurf-RL/tensurfrl/RL-A2C-V1/Run-A2C.ipynb#W3sZmlsZQ%3D%3D?line=1'>2</a>\u001b[0m data \u001b[39m=\u001b[39m preProcessedData\u001b[39m.\u001b[39;49mfinal()\n",
            "File \u001b[1;32mc:\\Users\\kasra\\Downloads\\Ten-Surf\\Tensurf-RL\\tensurfrl\\RL-A2C-V1\\utils\\lobPreprocessing2.py:106\u001b[0m, in \u001b[0;36mlobPreprocessing.final\u001b[1;34m(self)\u001b[0m\n\u001b[0;32m    104\u001b[0m \u001b[39mdef\u001b[39;00m \u001b[39mfinal\u001b[39m(\u001b[39mself\u001b[39m):\n\u001b[1;32m--> 106\u001b[0m     a \u001b[39m=\u001b[39m \u001b[39mself\u001b[39;49m\u001b[39m.\u001b[39;49m read_data(\u001b[39mself\u001b[39;49m\u001b[39m.\u001b[39;49m pathForLOB, \u001b[39mself\u001b[39;49m\u001b[39m.\u001b[39;49m col_names,  \u001b[39mself\u001b[39;49m\u001b[39m.\u001b[39;49m col_list)\n\u001b[0;32m    108\u001b[0m     \u001b[39m# b = self. clean_lob(a)\u001b[39;00m\n\u001b[0;32m    109\u001b[0m     \n\u001b[0;32m    110\u001b[0m     \u001b[39m# #self. zscore_nomalization(b,freq='5D')\u001b[39;00m\n\u001b[1;32m   (...)\u001b[0m\n\u001b[0;32m    127\u001b[0m     \u001b[39m# dataTest = dataTrain.iloc[-testNumbers : , : ]\u001b[39;00m\n\u001b[0;32m    128\u001b[0m     \u001b[39m# dataTest.reset_index(drop=True, inplace=True) \u001b[39;00m\n\u001b[0;32m    131\u001b[0m     \u001b[39mreturn\u001b[39;00m(a)\n",
            "File \u001b[1;32mc:\\Users\\kasra\\Downloads\\Ten-Surf\\Tensurf-RL\\tensurfrl\\RL-A2C-V1\\utils\\lobPreprocessing2.py:46\u001b[0m, in \u001b[0;36mlobPreprocessing.read_data\u001b[1;34m(self, file_name, col_names, col_list)\u001b[0m\n\u001b[0;32m     44\u001b[0m \u001b[39mfor\u001b[39;00m col \u001b[39min\u001b[39;00m col_list:\n\u001b[0;32m     45\u001b[0m     data[col] \u001b[39m=\u001b[39m data[col]\u001b[39m.\u001b[39mapply(\u001b[39mlambda\u001b[39;00m x: \u001b[39mself\u001b[39m\u001b[39m.\u001b[39m string_to_nplist(x))\n\u001b[1;32m---> 46\u001b[0m data[\u001b[39m\"\u001b[39m\u001b[39mDateTime\u001b[39m\u001b[39m\"\u001b[39m] \u001b[39m=\u001b[39m pd\u001b[39m.\u001b[39;49mto_datetime(data[\u001b[39m\"\u001b[39;49m\u001b[39mDateTime\u001b[39;49m\u001b[39m\"\u001b[39;49m])\n\u001b[0;32m     47\u001b[0m data\u001b[39m.\u001b[39mset_index([\u001b[39m\"\u001b[39m\u001b[39mDateTime\u001b[39m\u001b[39m\"\u001b[39m], inplace\u001b[39m=\u001b[39m\u001b[39mTrue\u001b[39;00m)\n\u001b[0;32m     48\u001b[0m \u001b[39mreturn\u001b[39;00m data\n",
            "File \u001b[1;32mc:\\Users\\kasra\\.conda\\envs\\Ai\\lib\\site-packages\\pandas\\core\\tools\\datetimes.py:1051\u001b[0m, in \u001b[0;36mto_datetime\u001b[1;34m(arg, errors, dayfirst, yearfirst, utc, format, exact, unit, infer_datetime_format, origin, cache)\u001b[0m\n\u001b[0;32m   1049\u001b[0m         result \u001b[39m=\u001b[39m arg\u001b[39m.\u001b[39mmap(cache_array)\n\u001b[0;32m   1050\u001b[0m     \u001b[39melse\u001b[39;00m:\n\u001b[1;32m-> 1051\u001b[0m         values \u001b[39m=\u001b[39m convert_listlike(arg\u001b[39m.\u001b[39;49m_values, \u001b[39mformat\u001b[39;49m)\n\u001b[0;32m   1052\u001b[0m         result \u001b[39m=\u001b[39m arg\u001b[39m.\u001b[39m_constructor(values, index\u001b[39m=\u001b[39marg\u001b[39m.\u001b[39mindex, name\u001b[39m=\u001b[39marg\u001b[39m.\u001b[39mname)\n\u001b[0;32m   1053\u001b[0m \u001b[39melif\u001b[39;00m \u001b[39misinstance\u001b[39m(arg, (ABCDataFrame, abc\u001b[39m.\u001b[39mMutableMapping)):\n",
            "File \u001b[1;32mc:\\Users\\kasra\\.conda\\envs\\Ai\\lib\\site-packages\\pandas\\core\\tools\\datetimes.py:402\u001b[0m, in \u001b[0;36m_convert_listlike_datetimes\u001b[1;34m(arg, format, name, tz, unit, errors, infer_datetime_format, dayfirst, yearfirst, exact)\u001b[0m\n\u001b[0;32m    400\u001b[0m \u001b[39massert\u001b[39;00m \u001b[39mformat\u001b[39m \u001b[39mis\u001b[39;00m \u001b[39mNone\u001b[39;00m \u001b[39mor\u001b[39;00m infer_datetime_format\n\u001b[0;32m    401\u001b[0m utc \u001b[39m=\u001b[39m tz \u001b[39m==\u001b[39m \u001b[39m\"\u001b[39m\u001b[39mutc\u001b[39m\u001b[39m\"\u001b[39m\n\u001b[1;32m--> 402\u001b[0m result, tz_parsed \u001b[39m=\u001b[39m objects_to_datetime64ns(\n\u001b[0;32m    403\u001b[0m     arg,\n\u001b[0;32m    404\u001b[0m     dayfirst\u001b[39m=\u001b[39;49mdayfirst,\n\u001b[0;32m    405\u001b[0m     yearfirst\u001b[39m=\u001b[39;49myearfirst,\n\u001b[0;32m    406\u001b[0m     utc\u001b[39m=\u001b[39;49mutc,\n\u001b[0;32m    407\u001b[0m     errors\u001b[39m=\u001b[39;49merrors,\n\u001b[0;32m    408\u001b[0m     require_iso8601\u001b[39m=\u001b[39;49mrequire_iso8601,\n\u001b[0;32m    409\u001b[0m     allow_object\u001b[39m=\u001b[39;49m\u001b[39mTrue\u001b[39;49;00m,\n\u001b[0;32m    410\u001b[0m )\n\u001b[0;32m    412\u001b[0m \u001b[39mif\u001b[39;00m tz_parsed \u001b[39mis\u001b[39;00m \u001b[39mnot\u001b[39;00m \u001b[39mNone\u001b[39;00m:\n\u001b[0;32m    413\u001b[0m     \u001b[39m# We can take a shortcut since the datetime64 numpy array\u001b[39;00m\n\u001b[0;32m    414\u001b[0m     \u001b[39m# is in UTC\u001b[39;00m\n\u001b[0;32m    415\u001b[0m     dta \u001b[39m=\u001b[39m DatetimeArray(result, dtype\u001b[39m=\u001b[39mtz_to_dtype(tz_parsed))\n",
            "File \u001b[1;32mc:\\Users\\kasra\\.conda\\envs\\Ai\\lib\\site-packages\\pandas\\core\\arrays\\datetimes.py:2242\u001b[0m, in \u001b[0;36mobjects_to_datetime64ns\u001b[1;34m(data, dayfirst, yearfirst, utc, errors, require_iso8601, allow_object, allow_mixed)\u001b[0m\n\u001b[0;32m   2240\u001b[0m         \u001b[39mreturn\u001b[39;00m values\u001b[39m.\u001b[39mview(\u001b[39m\"\u001b[39m\u001b[39mi8\u001b[39m\u001b[39m\"\u001b[39m), tz_parsed\n\u001b[0;32m   2241\u001b[0m     \u001b[39mexcept\u001b[39;00m (\u001b[39mValueError\u001b[39;00m, \u001b[39mTypeError\u001b[39;00m):\n\u001b[1;32m-> 2242\u001b[0m         \u001b[39mraise\u001b[39;00m err\n\u001b[0;32m   2244\u001b[0m \u001b[39mif\u001b[39;00m tz_parsed \u001b[39mis\u001b[39;00m \u001b[39mnot\u001b[39;00m \u001b[39mNone\u001b[39;00m:\n\u001b[0;32m   2245\u001b[0m     \u001b[39m# We can take a shortcut since the datetime64 numpy array\u001b[39;00m\n\u001b[0;32m   2246\u001b[0m     \u001b[39m#  is in UTC\u001b[39;00m\n\u001b[0;32m   2247\u001b[0m     \u001b[39m# Return i8 values to denote unix timestamps\u001b[39;00m\n\u001b[0;32m   2248\u001b[0m     \u001b[39mreturn\u001b[39;00m result\u001b[39m.\u001b[39mview(\u001b[39m\"\u001b[39m\u001b[39mi8\u001b[39m\u001b[39m\"\u001b[39m), tz_parsed\n",
            "File \u001b[1;32mc:\\Users\\kasra\\.conda\\envs\\Ai\\lib\\site-packages\\pandas\\core\\arrays\\datetimes.py:2224\u001b[0m, in \u001b[0;36mobjects_to_datetime64ns\u001b[1;34m(data, dayfirst, yearfirst, utc, errors, require_iso8601, allow_object, allow_mixed)\u001b[0m\n\u001b[0;32m   2222\u001b[0m order: Literal[\u001b[39m\"\u001b[39m\u001b[39mF\u001b[39m\u001b[39m\"\u001b[39m, \u001b[39m\"\u001b[39m\u001b[39mC\u001b[39m\u001b[39m\"\u001b[39m] \u001b[39m=\u001b[39m \u001b[39m\"\u001b[39m\u001b[39mF\u001b[39m\u001b[39m\"\u001b[39m \u001b[39mif\u001b[39;00m flags\u001b[39m.\u001b[39mf_contiguous \u001b[39melse\u001b[39;00m \u001b[39m\"\u001b[39m\u001b[39mC\u001b[39m\u001b[39m\"\u001b[39m\n\u001b[0;32m   2223\u001b[0m \u001b[39mtry\u001b[39;00m:\n\u001b[1;32m-> 2224\u001b[0m     result, tz_parsed \u001b[39m=\u001b[39m tslib\u001b[39m.\u001b[39;49marray_to_datetime(\n\u001b[0;32m   2225\u001b[0m         data\u001b[39m.\u001b[39;49mravel(\u001b[39m\"\u001b[39;49m\u001b[39mK\u001b[39;49m\u001b[39m\"\u001b[39;49m),\n\u001b[0;32m   2226\u001b[0m         errors\u001b[39m=\u001b[39;49merrors,\n\u001b[0;32m   2227\u001b[0m         utc\u001b[39m=\u001b[39;49mutc,\n\u001b[0;32m   2228\u001b[0m         dayfirst\u001b[39m=\u001b[39;49mdayfirst,\n\u001b[0;32m   2229\u001b[0m         yearfirst\u001b[39m=\u001b[39;49myearfirst,\n\u001b[0;32m   2230\u001b[0m         require_iso8601\u001b[39m=\u001b[39;49mrequire_iso8601,\n\u001b[0;32m   2231\u001b[0m         allow_mixed\u001b[39m=\u001b[39;49mallow_mixed,\n\u001b[0;32m   2232\u001b[0m     )\n\u001b[0;32m   2233\u001b[0m     result \u001b[39m=\u001b[39m result\u001b[39m.\u001b[39mreshape(data\u001b[39m.\u001b[39mshape, order\u001b[39m=\u001b[39morder)\n\u001b[0;32m   2234\u001b[0m \u001b[39mexcept\u001b[39;00m \u001b[39mValueError\u001b[39;00m \u001b[39mas\u001b[39;00m err:\n",
            "File \u001b[1;32mc:\\Users\\kasra\\.conda\\envs\\Ai\\lib\\site-packages\\pandas\\_libs\\tslib.pyx:381\u001b[0m, in \u001b[0;36mpandas._libs.tslib.array_to_datetime\u001b[1;34m()\u001b[0m\n",
            "File \u001b[1;32mc:\\Users\\kasra\\.conda\\envs\\Ai\\lib\\site-packages\\pandas\\_libs\\tslib.pyx:613\u001b[0m, in \u001b[0;36mpandas._libs.tslib.array_to_datetime\u001b[1;34m()\u001b[0m\n",
            "File \u001b[1;32mc:\\Users\\kasra\\.conda\\envs\\Ai\\lib\\site-packages\\pandas\\_libs\\tslib.pyx:751\u001b[0m, in \u001b[0;36mpandas._libs.tslib._array_to_datetime_object\u001b[1;34m()\u001b[0m\n",
            "File \u001b[1;32mc:\\Users\\kasra\\.conda\\envs\\Ai\\lib\\site-packages\\pandas\\_libs\\tslib.pyx:742\u001b[0m, in \u001b[0;36mpandas._libs.tslib._array_to_datetime_object\u001b[1;34m()\u001b[0m\n",
            "File \u001b[1;32mc:\\Users\\kasra\\.conda\\envs\\Ai\\lib\\site-packages\\pandas\\_libs\\tslibs\\parsing.pyx:281\u001b[0m, in \u001b[0;36mpandas._libs.tslibs.parsing.parse_datetime_string\u001b[1;34m()\u001b[0m\n",
            "File \u001b[1;32mc:\\Users\\kasra\\.conda\\envs\\Ai\\lib\\site-packages\\dateutil\\parser\\_parser.py:1368\u001b[0m, in \u001b[0;36mparse\u001b[1;34m(timestr, parserinfo, **kwargs)\u001b[0m\n\u001b[0;32m   1366\u001b[0m     \u001b[39mreturn\u001b[39;00m parser(parserinfo)\u001b[39m.\u001b[39mparse(timestr, \u001b[39m*\u001b[39m\u001b[39m*\u001b[39mkwargs)\n\u001b[0;32m   1367\u001b[0m \u001b[39melse\u001b[39;00m:\n\u001b[1;32m-> 1368\u001b[0m     \u001b[39mreturn\u001b[39;00m DEFAULTPARSER\u001b[39m.\u001b[39;49mparse(timestr, \u001b[39m*\u001b[39;49m\u001b[39m*\u001b[39;49mkwargs)\n",
            "File \u001b[1;32mc:\\Users\\kasra\\.conda\\envs\\Ai\\lib\\site-packages\\dateutil\\parser\\_parser.py:643\u001b[0m, in \u001b[0;36mparser.parse\u001b[1;34m(self, timestr, default, ignoretz, tzinfos, **kwargs)\u001b[0m\n\u001b[0;32m    640\u001b[0m res, skipped_tokens \u001b[39m=\u001b[39m \u001b[39mself\u001b[39m\u001b[39m.\u001b[39m_parse(timestr, \u001b[39m*\u001b[39m\u001b[39m*\u001b[39mkwargs)\n\u001b[0;32m    642\u001b[0m \u001b[39mif\u001b[39;00m res \u001b[39mis\u001b[39;00m \u001b[39mNone\u001b[39;00m:\n\u001b[1;32m--> 643\u001b[0m     \u001b[39mraise\u001b[39;00m ParserError(\u001b[39m\"\u001b[39m\u001b[39mUnknown string format: \u001b[39m\u001b[39m%s\u001b[39;00m\u001b[39m\"\u001b[39m, timestr)\n\u001b[0;32m    645\u001b[0m \u001b[39mif\u001b[39;00m \u001b[39mlen\u001b[39m(res) \u001b[39m==\u001b[39m \u001b[39m0\u001b[39m:\n\u001b[0;32m    646\u001b[0m     \u001b[39mraise\u001b[39;00m ParserError(\u001b[39m\"\u001b[39m\u001b[39mString does not contain a date: \u001b[39m\u001b[39m%s\u001b[39;00m\u001b[39m\"\u001b[39m, timestr)\n",
            "\u001b[1;31mParserError\u001b[0m: Unknown string format: time,open,high,low,close,Volume,NumTrades,Bid_Volume,Ask_Volume,bid_number,ask_number,AskBidDiffHigh,AskBidDiffLow,AskBidNumTradesDiffHigh,AskBidNumTradesDiffLow,UpDownVolDiffHigh,UpDownVolDiffLow,sum_lob_bid,sum_lob_ask"
          ]
        }
      ],
      "source": [
        "preProcessedData = lobPreprocessing(NqPath)\n",
        "data = preProcessedData.final()"
      ]
    },
    {
      "cell_type": "code",
      "execution_count": null,
      "metadata": {},
      "outputs": [
        {
          "data": {
            "text/plain": [
              "array([  2.33164441,   2.33254355,   2.33344269,   2.33434182,\n",
              "         2.33524096,   2.3361401 ,   2.33703924,   2.33793838,\n",
              "         2.33883751,   2.33973665,   2.34063579,   2.34153493,\n",
              "         2.34243407,   2.34333321,   2.34423234,   2.34513148,\n",
              "         2.34603062,   2.34692976,   2.3478289 ,   2.34872803,\n",
              "        -1.00560707,   0.05561781,   1.64745513,   1.64745513,\n",
              "         1.64745513,   4.30051733,  -1.00560707,   3.76990489,\n",
              "        -1.00560707,   2.17806757,   2.17806757,   1.64745513,\n",
              "         2.70868001,   1.11684269,  -0.47499463,   0.05561781,\n",
              "         3.76990489,   3.76990489,  -1.00560707,  -0.47499463,\n",
              "       -30.17017283, -28.06741282, -25.87182462, -23.18384348,\n",
              "       -10.7973358 ,   1.31068734,   1.71428811,   1.76675621,\n",
              "         2.77172213,   5.33862304,   5.34669505,   6.33551694,\n",
              "         7.10235841,   7.87222688,   8.08714429,   8.57550122,\n",
              "         8.67640142,   9.35041471,   9.38270277,   9.38371177,\n",
              "        -1.0383043 ,  -1.0383043 ,  -1.0383043 ,  -1.0383043 ,\n",
              "        -1.0383043 ,  -1.0383043 ,   1.37837989,   0.17003779,\n",
              "        -1.0383043 ,  -1.0383043 ,   0.77420884,   0.17003779,\n",
              "        -1.0383043 ,   0.17003779,  -1.0383043 ,   1.98255093,\n",
              "        -1.0383043 ,  -1.0383043 ,  -0.43413326,  -0.43413326])"
            ]
          },
          "execution_count": 5,
          "metadata": {},
          "output_type": "execute_result"
        }
      ],
      "source": [
        "data"
      ]
    },
    {
      "cell_type": "code",
      "execution_count": 3,
      "metadata": {
        "colab": {
          "base_uri": "https://localhost:8080/"
        },
        "id": "f8aeEL-nu6Od",
        "outputId": "a789e46e-eb88-4086-e6c9-b0b5f0769fa7"
      },
      "outputs": [
        {
          "name": "stderr",
          "output_type": "stream",
          "text": [
            "c:\\Users\\kasra\\.conda\\envs\\Ai\\lib\\site-packages\\numpy\\core\\fromnumeric.py:3199: VisibleDeprecationWarning: Creating an ndarray from ragged nested sequences (which is a list-or-tuple of lists-or-tuples-or ndarrays with different lengths or shapes) is deprecated. If you meant to do this, you must specify 'dtype=object' when creating the ndarray.\n",
            "  return asarray(a).ndim\n",
            "c:\\Users\\kasra\\.conda\\envs\\Ai\\lib\\site-packages\\numpy\\core\\fromnumeric.py:3199: VisibleDeprecationWarning: Creating an ndarray from ragged nested sequences (which is a list-or-tuple of lists-or-tuples-or ndarrays with different lengths or shapes) is deprecated. If you meant to do this, you must specify 'dtype=object' when creating the ndarray.\n",
            "  return asarray(a).ndim\n"
          ]
        },
        {
          "ename": "TypeError",
          "evalue": "object of type 'NoneType' has no len()",
          "output_type": "error",
          "traceback": [
            "\u001b[1;31m---------------------------------------------------------------------------\u001b[0m",
            "\u001b[1;31mTypeError\u001b[0m                                 Traceback (most recent call last)",
            "\u001b[1;32mc:\\Users\\kasra\\Downloads\\Ten-Surf\\Tensurf-RL\\tensurfrl\\RL-A2C\\Run-A2C.ipynb Cell 4\u001b[0m in \u001b[0;36m<cell line: 31>\u001b[1;34m()\u001b[0m\n\u001b[0;32m     <a href='vscode-notebook-cell:/c%3A/Users/kasra/Downloads/Ten-Surf/Tensurf-RL/tensurfrl/RL-A2C/Run-A2C.ipynb#W3sZmlsZQ%3D%3D?line=35'>36</a>\u001b[0m \u001b[39m########################### transition between state and action #####################\u001b[39;00m\n\u001b[0;32m     <a href='vscode-notebook-cell:/c%3A/Users/kasra/Downloads/Ten-Surf/Tensurf-RL/tensurfrl/RL-A2C/Run-A2C.ipynb#W3sZmlsZQ%3D%3D?line=36'>37</a>\u001b[0m env_ \u001b[39m=\u001b[39m openOrClosePosition(env, selectedAction, i, dataTrain, margin,  Sl, Tp)   \n\u001b[1;32m---> <a href='vscode-notebook-cell:/c%3A/Users/kasra/Downloads/Ten-Surf/Tensurf-RL/tensurfrl/RL-A2C/Run-A2C.ipynb#W3sZmlsZQ%3D%3D?line=37'>38</a>\u001b[0m env \u001b[39m=\u001b[39m env_\u001b[39m.\u001b[39;49mtradeCheck() \n\u001b[0;32m     <a href='vscode-notebook-cell:/c%3A/Users/kasra/Downloads/Ten-Surf/Tensurf-RL/tensurfrl/RL-A2C/Run-A2C.ipynb#W3sZmlsZQ%3D%3D?line=39'>40</a>\u001b[0m \u001b[39m################################## next observation #################                  \u001b[39;00m\n\u001b[0;32m     <a href='vscode-notebook-cell:/c%3A/Users/kasra/Downloads/Ten-Surf/Tensurf-RL/tensurfrl/RL-A2C/Run-A2C.ipynb#W3sZmlsZQ%3D%3D?line=40'>41</a>\u001b[0m nextState \u001b[39m=\u001b[39m trainData[i\u001b[39m+\u001b[39m\u001b[39m1\u001b[39m, :] \n",
            "File \u001b[1;32mc:\\Users\\kasra\\Downloads\\Ten-Surf\\Tensurf-RL\\tensurfrl\\RL-A2C\\utils\\openOrClosePosition.py:108\u001b[0m, in \u001b[0;36mopenOrClosePosition.tradeCheck\u001b[1;34m(self)\u001b[0m\n\u001b[0;32m    106\u001b[0m \u001b[39mdef\u001b[39;00m \u001b[39mtradeCheck\u001b[39m(\u001b[39mself\u001b[39m):\n\u001b[1;32m--> 108\u001b[0m     \u001b[39mif\u001b[39;00m \u001b[39mlen\u001b[39;49m(\u001b[39mself\u001b[39;49m\u001b[39m.\u001b[39;49m positions) \u001b[39m==\u001b[39m \u001b[39m0\u001b[39m \u001b[39mor\u001b[39;00m \u001b[39mself\u001b[39m\u001b[39m.\u001b[39m positions[\u001b[39m\"\u001b[39m\u001b[39mtrade \u001b[39m\u001b[39m\"\u001b[39m \u001b[39m+\u001b[39m \u001b[39mstr\u001b[39m(\u001b[39mlen\u001b[39m(\u001b[39mself\u001b[39m\u001b[39m.\u001b[39m positions))][\u001b[39m\"\u001b[39m\u001b[39mclosePrice\u001b[39m\u001b[39m\"\u001b[39m] \u001b[39m!=\u001b[39m \u001b[39m0\u001b[39m:\n\u001b[0;32m    109\u001b[0m         \u001b[39mif\u001b[39;00m \u001b[39mlen\u001b[39m(\u001b[39mself\u001b[39m\u001b[39m.\u001b[39m positions) \u001b[39m==\u001b[39m \u001b[39m0\u001b[39m:\n\u001b[0;32m    110\u001b[0m             margin \u001b[39m=\u001b[39m \u001b[39mself\u001b[39m\u001b[39m.\u001b[39m margin\n",
            "\u001b[1;31mTypeError\u001b[0m: object of type 'NoneType' has no len()"
          ]
        }
      ],
      "source": [
        "######################### Train Section ############################\n",
        "####################################################################\n",
        "\n",
        "\n",
        "################ data preprocessing  for forex STOCK ###########\n",
        "\n",
        "preProcessedData = lobPreprocessing(NqPath)\n",
        "trainData, testData, dataTrain, dataTest = preProcessedData.final()\n",
        "\n",
        "\n",
        "################## initialize models,memory and etc ##################\n",
        "       \n",
        "Actor_model = Actor(np.shape(trainData)[1], np.shape(outPutOfQ)[0])\n",
        "Actor_model_main= Actor_model.model\n",
        "\n",
        "Critic_model= Critic(np.shape(trainData)[1])\n",
        "Critic_model_main= Critic_model.model\n",
        "\n",
        "env = dict()\n",
        "memory = deque(maxlen = relayMemorySize)\n",
        "selectedAction = actions[random.randint(0, len(actions)-1)]\n",
        "\n",
        "# td_target_batch = []\n",
        "# advatnage_batch = []\n",
        "\n",
        "############################### gpu supporting########################\n",
        "#!@jit(target =\"cuda\")\n",
        "\n",
        "########################## Train loop #########################\n",
        "\n",
        "for i in range(len(trainData)-1):\n",
        "\n",
        "    ############################ current state #############\n",
        "    state = trainData[i, :]\n",
        "    \n",
        "    ########################### transition between state and action #####################\n",
        "    env_ = openOrClosePosition(env, selectedAction, i, dataTrain, margin,  Sl, Tp)   \n",
        "    env = env_.tradeCheck() \n",
        "\n",
        "    ################################## next observation #################                  \n",
        "    nextState = trainData[i+1, :] \n",
        "    \n",
        "    ################################# reward calculation ######\n",
        "    rewardCalculating = rewardCalculation(env, i, selectedAction, dataTrain, stepSwith = True)\n",
        "    reward = rewardCalculating.reward()\n",
        "    \n",
        "        \n",
        "    def td_targets(reward, next_state):\n",
        "\n",
        "        v_value = Critic_model_main.predict(\n",
        "        np.reshape(nextState,(1, np.shape(nextState)[0])),verbose=0)\n",
        "        \n",
        "        return (reward + (gamma * v_value))\n",
        "\n",
        "    def advatnages(td_target, baselines):\n",
        "    \n",
        "        return (td_target - baselines)\n",
        "\n",
        "\n",
        "    td_target = td_targets((reward) , nextState)\n",
        "    \n",
        "    advantage = advatnages(td_target, Critic_model_main.predict(np.reshape(state,(1, np.shape(state)[0])),verbose=0))\n",
        "   \n",
        "    # td_target_batch.append(td_target)\n",
        "    # advatnage_batch.append(advantage)\n",
        "    ################################### saving to memory ###################\n",
        "    memory.append([state, actionConverting[actions.index(selectedAction)], reward, nextState,td_target,advantage])  \n",
        "\n",
        "    ########################## action selection ########################\n",
        "    \n",
        "    if len(memory) % batchSize==0:\n",
        "        \n",
        "        # trainer = updatinQtable(memory, batchSize, Q, gamma, nextState)\n",
        "        # Q = trainer.updating()\n",
        "        print(\"A2C updated\")\n",
        "        \n",
        "        # if epsilon > epsilonFinal:\n",
        "        #    epsilon *= epsilonDecay\n",
        "\n",
        "        Actor_model_main = Actor_model.train(memory,Actor_model_main)\n",
        "        \n",
        "        Critic_model_main = Critic_model.train(memory,Critic_model_main)\n",
        "\n",
        "        memory = deque(maxlen = relayMemorySize)\n",
        "        # td_target_batch = []\n",
        "        # advatnage_batch = []\n",
        "    \n",
        "    #####################  select action according to decided policy #####################\n",
        "\n",
        "    policy_ = policy(Actor_model_main, actions, state, epsilon)\n",
        "\n",
        "    selectedAction = policy_.actionSelection()\n",
        "    \n",
        "    \n",
        "    ############################# state updating ##########################\n",
        "    state = nextState\n",
        "\n",
        "    ############################## save models ##########################\n",
        "\n",
        "#Q.save(\"DQN.csv\")\n",
        "    \n"
      ]
    },
    {
      "cell_type": "code",
      "execution_count": null,
      "metadata": {},
      "outputs": [],
      "source": []
    },
    {
      "cell_type": "code",
      "execution_count": 5,
      "metadata": {},
      "outputs": [],
      "source": [
        "############################# test section #########################\n",
        "####################################################################\n",
        "\n",
        "################## initialize models,memory and etc ##################\n",
        "\n",
        "envTest = dict()\n",
        "memoryTest = deque(maxlen = relayMemorySize)\n",
        "selectedAction = actions[random.randint(0,len(actions)-1)]\n",
        "\n",
        "\n",
        "######################### test loop ########################\n",
        "for i in range(len(testData)-1):\n",
        "    \n",
        "    ############################ current state #############\n",
        "    test_state = testData[i, :]\n",
        "\n",
        "    ########################### transition between state and action #####################\n",
        "    env_ = openOrClosePosition(envTest, selectedAction, i, dataTest, margin,  Sl, Tp)   \n",
        "    envTest = env_.tradeCheck() \n",
        "\n",
        "    ########################## next observation ######################                  \n",
        "    test_nextState = testData[i+1, :] \n",
        "    \n",
        "    ######################### reward calculation ######################\n",
        "    rewardCalculating = rewardCalculation(envTest, i, selectedAction, dataTest, stepSwith = True)\n",
        "    reward = rewardCalculating.reward()\n",
        "    \n",
        "    ################################### saving to memory ###################\n",
        "    memoryTest.append([test_state, actionConverting[actions.index(selectedAction)], reward, test_nextState])       \n",
        "    \n",
        "    ######################                   ####################\n",
        "    \n",
        "    # if len(memoryTest) >= numberOfFirstBatchData:\n",
        "        \n",
        "    #     trainer = updatinQtable(memoryTest, batchSize, Q, gamma, nextState)\n",
        "    #     Q = trainer.updating()\n",
        "    #     print(\"Q test was updated\")\n",
        "    # if epsilonTest > epsilonFinal:\n",
        "        \n",
        "    #     epsilonTest *= epsilonDecay\n",
        "    \n",
        "    ###########################################################  select action ##################\n",
        "\n",
        "    policy(Actor_model_main, actions, test_state, epsilon)\n",
        "    \n",
        "    selectedAction = policy_.actionSelection()\n",
        "    \n",
        "    ############################# state updating ##########################\n",
        "    \n",
        "    test_state = test_nextState\n",
        "\n",
        "    ############################# test model saving #######################\n",
        "\n",
        "# Q.save(\"DQNTest.csv\")"
      ]
    },
    {
      "cell_type": "code",
      "execution_count": 6,
      "metadata": {},
      "outputs": [
        {
          "data": {
            "text/plain": [
              "dict_keys(['trade 1', 'trade 2'])"
            ]
          },
          "execution_count": 6,
          "metadata": {},
          "output_type": "execute_result"
        }
      ],
      "source": [
        "envTest.keys()"
      ]
    },
    {
      "cell_type": "code",
      "execution_count": null,
      "metadata": {},
      "outputs": [],
      "source": []
    },
    {
      "cell_type": "code",
      "execution_count": 9,
      "metadata": {},
      "outputs": [
        {
          "name": "stderr",
          "output_type": "stream",
          "text": [
            "c:\\Users\\kasra\\Downloads\\Ten-Surf\\Tensurf-RL\\tensurfrl\\RL-A2C\\utils\\showTraderResults.py:127: UserWarning: color is redundantly defined by the 'color' keyword argument and the fmt string \"-ok\" (-> color='k'). The keyword argument will take precedence.\n",
            "  plt.plot(t, listOfMargin, '-ok', color=\"blue\", linewidth = 3)\n"
          ]
        },
        {
          "name": "stdout",
          "output_type": "stream",
          "text": [
            "{'numberOfTrades': 2, 'numberOfBuy': 0, 'numberOfSell': 1, 'numberOfPositveSell': 0, 'numberOfPositiveBuy': 0, 'profitInBuyTrades': 0, 'profitInSellTrades': 0, 'netProfit': -4.75, 'totallProfit': 0, 'totallLoss': -4.75, 'numberOfLossBuy': 0, 'lossInBuyTrades': 0, 'numberOfLossSell': 1, 'lossInSellTrades': -4.75, 'netBuy': 0, 'netSell': 4.75, 'winRate': 0.0, 'lossRate': 50.0}\n"
          ]
        },
        {
          "data": {
            "image/png": "[encoded data removed]",
            "text/plain": [
              "<Figure size 432x288 with 1 Axes>"
            ]
          },
          "metadata": {
            "needs_background": "light"
          },
          "output_type": "display_data"
        },
        {
          "data": {
            "image/png": "[encoded data removed]",
            "text/plain": [
              "<Figure size 432x288 with 1 Axes>"
            ]
          },
          "metadata": {
            "needs_background": "light"
          },
          "output_type": "display_data"
        }
      ],
      "source": [
        "################## show results #############################\n",
        "showTraderResults_ = showTraderResults(envTest, dataTest[\"Last\"].values)\n",
        "\n",
        "statements = showTraderResults_.final()\n",
        "\n",
        "print(statements)"
      ]
    },
    {
      "cell_type": "code",
      "execution_count": null,
      "metadata": {},
      "outputs": [],
      "source": []
    }
  ],
  "metadata": {
    "accelerator": "GPU",
    "colab": {
      "collapsed_sections": [],
      "machine_shape": "hm",
      "name": "Untitled13.ipynb",
      "provenance": []
    },
    "gpuClass": "standard",
    "kernelspec": {
      "display_name": "Python 3.8.13 ('Ai')",
      "language": "python",
      "name": "python3"
    },
    "language_info": {
      "codemirror_mode": {
        "name": "ipython",
        "version": 3
      },
      "file_extension": ".py",
      "mimetype": "text/x-python",
      "name": "python",
      "nbconvert_exporter": "python",
      "pygments_lexer": "ipython3",
      "version": "3.8.13"
    },
    "vscode": {
      "interpreter": {
        "hash": "1af19bf6d9b6220b63f9c4301657dd2793b9b571811340b99da04e342a11312b"
      }
    }
  },
  "nbformat": 4,
  "nbformat_minor": 0
}
