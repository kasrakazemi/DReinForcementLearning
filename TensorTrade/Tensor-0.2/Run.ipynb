{
 "cells": [
  {
   "cell_type": "code",
   "execution_count": 6,
   "metadata": {},
   "outputs": [
    {
     "name": "stdout",
     "output_type": "stream",
     "text": [
      "44\n"
     ]
    }
   ],
   "source": [
    "nums = (55, 44, 33, 22)\n",
    "print(max(min(nums[:2]), abs(-42)))"
   ]
  },
  {
   "cell_type": "code",
   "execution_count": 1,
   "metadata": {
    "pycharm": {
     "name": "#%%\n"
    }
   },
   "outputs": [],
   "source": [
    "!unzip tensortrade.zip\n",
    "#!unrar x LOB1_NQU22-CME_1min_2PercentSum_100PercentOrders_Overlapped_20Jun2022_19Sep2022.rar"
   ]
  },
  {
   "cell_type": "code",
   "execution_count": 20,
   "metadata": {
    "pycharm": {
     "name": "#%%\n"
    }
   },
   "outputs": [
    {
     "name": "stderr",
     "output_type": "stream",
     "text": [
      "'wget' is not recognized as an internal or external command,\n",
      "operable program or batch file.\n",
      "'unrar' is not recognized as an internal or external command,\n",
      "operable program or batch file.\n"
     ]
    }
   ],
   "source": [
    "#get data from link\n",
    "!wget -O data.zip https://www.dropbox.com/s/asg9ddvg46mr7iq/LOB1_NQZ22_1min_2PercentSum_100PercentOrders_Overlapped_2.zip?dl=0\n",
    "!unzip  '/content/data.zip'"
   ]
  },
  {
   "cell_type": "code",
   "execution_count": 1,
   "metadata": {
    "pycharm": {
     "name": "#%%\n"
    }
   },
   "outputs": [],
   "source": [
    "## test if using gpu or not # tensorflow\n",
    "# import tensorflow as tf\n",
    "# tf.config.list_physical_devices('GPU')"
   ]
  },
  {
   "cell_type": "code",
   "execution_count": null,
   "metadata": {
    "pycharm": {
     "is_executing": true,
     "name": "#%%\n"
    }
   },
   "outputs": [],
   "source": [
    "# test and use gpu # pytorch\n",
    "import torch\n",
    "device = torch.device(\"cuda:0\" if torch.cuda.is_available() else \"cpu\")\n",
    "print(device)"
   ]
  },
  {
   "cell_type": "code",
   "execution_count": 2,
   "metadata": {
    "pycharm": {
     "name": "#%%\n"
    }
   },
   "outputs": [],
   "source": [
    "!pip install tabulate\n",
    "!pip install stable_baselines3\n",
    "!pip install gym\n",
    "!pip install deprecated\n",
    "!pip install stockstats\n",
    "!pip install zigzag\n",
    "!pip install unrar\n",
    "!pip install optuna"
   ]
  },
  {
   "cell_type": "code",
   "execution_count": 2,
   "metadata": {
    "pycharm": {
     "name": "#%%\n"
    }
   },
   "outputs": [],
   "source": [
    "##################### Base Libs #####################\n",
    "#from tensortrade.data.inputs import *\n",
    "from tensortrade.data.feature_engineering import FeatureEngineering\n",
    "import tensortrade.env.default as default\n",
    "import tensortrade.env.env_stocktrading_train as Environment_Train\n",
    "import tensortrade.env.env_stocktrading_test as Environment_Test\n",
    "################### Others ##########################\n",
    "import numpy as np\n",
    "import pandas as pd\n",
    "import json\n",
    "import optuna\n",
    "import time\n",
    "import os"
   ]
  },
  {
   "cell_type": "code",
   "execution_count": 3,
   "metadata": {
    "pycharm": {
     "name": "#%%\n"
    }
   },
   "outputs": [],
   "source": [
    "Config_Path= \"configuration.json\"\n",
    "Config_File= open(Config_Path)\n",
    "Config = json.load(Config_File)"
   ]
  },
  {
   "cell_type": "code",
   "execution_count": 4,
   "metadata": {
    "pycharm": {
     "name": "#%%\n"
    }
   },
   "outputs": [
    {
     "data": {
      "text/plain": [
       "'\\n\\n\\nData Ghathering \\n\\n\\n\\n'"
      ]
     },
     "execution_count": 4,
     "metadata": {},
     "output_type": "execute_result"
    }
   ],
   "source": [
    "'''\n",
    "\n",
    "\n",
    "Data Ghathering \n",
    "\n",
    "\n",
    "\n",
    "'''"
   ]
  },
  {
   "cell_type": "code",
   "execution_count": 5,
   "metadata": {
    "pycharm": {
     "name": "#%%\n"
    }
   },
   "outputs": [
    {
     "name": "stdout",
     "output_type": "stream",
     "text": [
      "Data Path is : LOB1_NQU22-CME_1min_2PercentSum_100PercentOrders_Overlapped_20Jun2022_19Sep2022.csv\n"
     ]
    }
   ],
   "source": [
    "# see data path\n",
    "print('Data Path is :',Config['Data_Path'])"
   ]
  },
  {
   "cell_type": "code",
   "execution_count": 12,
   "metadata": {
    "pycharm": {
     "name": "#%%\n"
    }
   },
   "outputs": [],
   "source": [
    "# Primary feature engineering and data cleaning\n",
    "\n",
    "import shutil\n",
    "import ntpath\n",
    "import os\n",
    "import numpy as np\n",
    "import math\n",
    "####################################\n",
    "\n",
    "def k_moving_average(arr, window_size=20):\n",
    "    moving_averages = []\n",
    "    i = 0\n",
    "    while i < len(arr) - window_size + 1:\n",
    "        window_average = round(np.sum(arr[i:i+window_size]) / window_size, 2)\n",
    "        moving_averages.append(window_average)\n",
    "        i += 1\n",
    "    return moving_averages\n",
    "    \n",
    "def process_data(path, ind, n, first_line, cols, dirname, level=10, k=[5,10,20,50,100], look_back=50):\n",
    "    data = [first_line]\n",
    "    with open(path, 'r') as f:\n",
    "        for i, line in enumerate(f):\n",
    "            if i >= ind[0] and i < ind[1]:\n",
    "                data.append(line)\n",
    "    ltps = []\n",
    "    for line in data[1:]:\n",
    "        splits = line.split('|')\n",
    "       \n",
    "        ltp = float(splits[cols['Candle_LastTradePrice']])\n",
    "        ltps.append(ltp)\n",
    "    multi_labels = []\n",
    "    for h in k:\n",
    "        ma = k_moving_average(ltps, h)\n",
    "        k_minus = np.array([np.nan] * (h-1) + ma)\n",
    "        k_plus = np.array(ma + [np.nan] * (h-1))\n",
    "        smoothing = (k_plus - k_minus) / k_minus\n",
    "        alpha = np.std(smoothing[~np.isnan(smoothing)]) / 2\n",
    "        labels = []\n",
    "        for s in smoothing[~np.isnan(smoothing)]:\n",
    "            if s > alpha:\n",
    "                labels.append(s)\n",
    "            elif s < -alpha:\n",
    "                labels.append(s)\n",
    "            else:\n",
    "                labels.append(s)\n",
    "        labels_str = [np.nan] * (h-1) + labels + [np.nan] * (h-1)\n",
    "        labels_str = [str(i) for i in labels_str]\n",
    "        multi_labels.append(labels_str)\n",
    "    data[0] = data[0][:-1] + '|Label1|Label2|Label3|Label4|Label5\\n'\n",
    "    for i in range(len(data)):\n",
    "        if i == 0:\n",
    "          continue\n",
    "        else:\n",
    "          splits = data[i].split('|')\n",
    "          bidprices = splits[cols['LOB_BidPrices']].split(',')\n",
    "          bidprices = [p for p in bidprices if p != ''][-level:]\n",
    "          askprices = splits[cols['LOB_AskPrices']].split(',')\n",
    "          askprices = [p for p in askprices if p != ''][:level]\n",
    "          bidvolumes = splits[cols['LOB_BidVolumes']].split(',')\n",
    "          bidvolumes = [v for v in bidvolumes if v != ''][-level:]\n",
    "          askvolumes = splits[cols['LOB_AskVolumes']].split(',')\n",
    "          askvolumes = [v for v in askvolumes if v != ''][:level]\n",
    "          splits[cols['LOB_BidPrices']] = ','.join(bidprices)\n",
    "          splits[cols['LOB_AskPrices']] = ','.join(askprices)\n",
    "          splits[cols['LOB_BidVolumes']] = ','.join(bidvolumes)\n",
    "          splits[cols['LOB_AskVolumes']] = ','.join(askvolumes)\n",
    "          splits[-1] = splits[-1][:-1]\n",
    "          splits.append(multi_labels[0][i-1])\n",
    "          splits.append(multi_labels[1][i-1])\n",
    "          splits.append(multi_labels[2][i-1])\n",
    "          splits.append(multi_labels[3][i-1])\n",
    "          splits.append(multi_labels[4][i-1] + '\\n')\n",
    "          data[i] = '|'.join(splits)\n",
    "    filename = ntpath.basename(path).split('.')[0] + 'labeled{}.csv'.format(n)\n",
    "    with open(os.path.join(dirname, 'labeled', filename), 'w') as f:\n",
    "        for line in data:\n",
    "            f.write(line)\n",
    "    corrupts = []\n",
    "    for i, line in enumerate(data):\n",
    "        splits = line.split('|')\n",
    "        bidprices = splits[cols['LOB_BidPrices']].split(',')\n",
    "        askprices = splits[cols['LOB_AskPrices']].split(',')\n",
    "        bidvolumes = splits[cols['LOB_BidVolumes']].split(',')\n",
    "        askvolumes = splits[cols['LOB_AskVolumes']].split(',')\n",
    "        if len(bidprices) < level or len(askprices) < level or '' in askprices or '' in bidprices:    # corrupt condition\n",
    "            corrupts.append(i)\n",
    "    print(len(corrupts))\n",
    "    subfiles = []\n",
    "    for i in range(len(corrupts) - 1):\n",
    "        start = corrupts[i]\n",
    "        end = corrupts[i+1]\n",
    "        if end - start - 1 >= look_back:\n",
    "            subfiles.append(data[start+1:end])\n",
    "    if (len(data) - 1 - corrupts[-1]) >= look_back:\n",
    "        subfiles.append(data[corrupts[-1]+1:])\n",
    "    total = []\n",
    "    for f in subfiles:\n",
    "        total += f\n",
    "    filename = ntpath.basename(path).split('.')[0] + '_clean_labeled_{}.csv'.format(n)\n",
    "    with open(os.path.join(dirname, 'clean_labeled', filename), 'w') as f:\n",
    "        for line in total:\n",
    "            f.write(line)\n",
    "    samplesX = []\n",
    "    samplesY = []\n",
    "    for f in subfiles:\n",
    "        for i in range(look_back-1, len(f)):\n",
    "            splits = f[i].split('|')\n",
    "            sample_labels = [float(splits[-5])+1, float(splits[-4])+1, float(splits[-3])+1, float(splits[-2])+1, float(splits[-1][:-1])+1]\n",
    "            if any([math.isnan(i) for i in sample_labels]):\n",
    "                continue\n",
    "            total_ask_prices = []\n",
    "            total_ask_volumes = []\n",
    "            total_bid_prices = []\n",
    "            total_bid_volumes = []\n",
    "            for j in range(i+1-look_back, i+1):\n",
    "                spltis = f[j].split('|')\n",
    "                total_ask_prices = total_ask_prices + splits[cols['LOB_AskPrices']].split(',')\n",
    "                total_bid_prices = total_bid_prices + splits[cols['LOB_BidPrices']].split(',')\n",
    "                if '' in total_bid_prices:\n",
    "                    print(splits[cols['LOB_BidPrices']])\n",
    "                    return splits[cols['LOB_BidPrices']]\n",
    "                total_ask_volumes = total_ask_volumes + splits[cols['LOB_AskVolumes']].split(',')\n",
    "                total_bid_volumes = total_bid_volumes + splits[cols['LOB_BidVolumes']].split(',')\n",
    "            total_ask_prices = np.array([float(i) for i in total_ask_prices])\n",
    "            total_ask_volumes = np.array([float(i) for i in total_ask_volumes])\n",
    "            total_bid_prices = np.array([float(i) for i in total_bid_prices])\n",
    "            total_bid_volumes = np.array([float(i) for i in total_bid_volumes])\n",
    "            price_mean = np.concatenate([total_ask_prices, total_bid_prices]).mean()\n",
    "            price_std = np.concatenate([total_ask_prices, total_bid_prices]).std()\n",
    "            volume_mean = np.concatenate([total_ask_volumes, total_bid_volumes]).mean()\n",
    "            volume_std = np.concatenate([total_ask_volumes, total_bid_volumes]).std()\n",
    "            total_ask_prices = (total_ask_prices - price_mean) / price_std\n",
    "            total_ask_volumes = (total_ask_volumes - volume_mean) / volume_std\n",
    "            total_bid_prices = (total_bid_prices - price_mean) / price_std\n",
    "            total_bid_volumes = (total_bid_volumes - volume_mean) / volume_std\n",
    "            total = np.stack([total_ask_prices, total_bid_prices, total_ask_volumes, total_bid_volumes]).T\n",
    "            total = total.reshape((look_back, -1))\n",
    "            samplesX.append(total)\n",
    "           \n",
    "            samplesY.append(sample_labels)\n",
    "    X_name = ntpath.basename(path).split('.')[0] + 'X{}.npy'.format(n)\n",
    "    y_name = ntpath.basename(path).split('.')[0] + 'y{}.npy'.format(n)\n",
    "    with open(os.path.join(dirname, 'numpy', X_name), 'wb') as f:\n",
    "        np.save(f, np.array(samplesX).reshape(-1, look_back, level*4, 1))\n",
    "    with open(os.path.join(dirname, 'numpy', y_name), 'wb') as f:\n",
    "        np.save(f, np.array(samplesY))\n",
    "\n",
    "def prepare_data_2(path, level=10, k=[5,10,20,50,100], look_back=50):\n",
    "    dirname = ntpath.basename(path).split('.')[0] + '_processed'\n",
    "    count = 0\n",
    "    with open(path, 'r') as f:\n",
    "        for line in f:\n",
    "            if count == 0:\n",
    "                cols = line.split('|')\n",
    "                cols[-1] = cols[-1][:-1]\n",
    "                cols = {cols[i]:i for i in range(len(cols))}\n",
    "                first_line = line\n",
    "            count += 1\n",
    "   \n",
    "    n = (count // 21541) + 1\n",
    "    \n",
    "    inds = []\n",
    "    for i in range(n):\n",
    "        if (count - i*21541) > 21541:\n",
    "            if i == 0:\n",
    "                inds.append((1, (i+1)*21541))\n",
    "            else:\n",
    "                inds.append((i*21541, (i+1)*21541))\n",
    "        else:\n",
    "            inds.append((i*21541, count))\n",
    "    try:\n",
    "        shutil.rmtree(dirname)\n",
    "        print('Removing old directory and creating a new one')\n",
    "    except:\n",
    "        print('No such directory')\n",
    "        print('Creating new directory')\n",
    "        \n",
    "    os.mkdir(dirname)\n",
    "    os.mkdir(os.path.join(dirname, 'labeled'))\n",
    "    os.mkdir(os.path.join(dirname, 'clean_labeled'))\n",
    "    os.mkdir(os.path.join(dirname, 'numpy'))\n",
    "\n",
    "    for i, ind in enumerate(inds):\n",
    "        process_data(path=path, ind=ind, n=i, first_line=first_line, cols=cols, dirname=dirname, level=level, k=k, look_back=look_back)\n",
    "\n",
    "#######################################################"
   ]
  },
  {
   "cell_type": "code",
   "execution_count": 13,
   "metadata": {
    "pycharm": {
     "name": "#%%\n"
    }
   },
   "outputs": [
    {
     "name": "stdout",
     "output_type": "stream",
     "text": [
      "Removing old directory and creating a new one\n",
      "1\n"
     ]
    },
    {
     "name": "stderr",
     "output_type": "stream",
     "text": [
      "C:\\Users\\kasra\\AppData\\Local\\Temp\\ipykernel_22552\\4278059449.py:133: RuntimeWarning: invalid value encountered in divide\n",
      "  total_ask_volumes = (total_ask_volumes - volume_mean) / volume_std\n",
      "C:\\Users\\kasra\\AppData\\Local\\Temp\\ipykernel_22552\\4278059449.py:135: RuntimeWarning: invalid value encountered in divide\n",
      "  total_bid_volumes = (total_bid_volumes - volume_mean) / volume_std\n"
     ]
    },
    {
     "name": "stdout",
     "output_type": "stream",
     "text": [
      "1\n",
      "1\n"
     ]
    },
    {
     "name": "stderr",
     "output_type": "stream",
     "text": [
      "c:\\Users\\kasra\\.conda\\envs\\Ai\\lib\\site-packages\\numpy\\core\\_methods.py:265: RuntimeWarning: Degrees of freedom <= 0 for slice\n",
      "  ret = _var(a, axis=axis, dtype=dtype, out=out, ddof=ddof,\n",
      "c:\\Users\\kasra\\.conda\\envs\\Ai\\lib\\site-packages\\numpy\\core\\_methods.py:223: RuntimeWarning: invalid value encountered in divide\n",
      "  arrmean = um.true_divide(arrmean, div, out=arrmean, casting='unsafe',\n",
      "c:\\Users\\kasra\\.conda\\envs\\Ai\\lib\\site-packages\\numpy\\core\\_methods.py:257: RuntimeWarning: invalid value encountered in double_scalars\n",
      "  ret = ret.dtype.type(ret / rcount)\n"
     ]
    }
   ],
   "source": [
    "prepare_data_2(Config['Data_Resized_Path'])"
   ]
  },
  {
   "cell_type": "code",
   "execution_count": 14,
   "metadata": {
    "pycharm": {
     "name": "#%%\n"
    }
   },
   "outputs": [],
   "source": [
    "column_name= ['DateTime','open', 'high', 'low',\n",
    "       'close', 'Candle_LastTradePrice', 'volume',\n",
    "       'bid_volume', 'ask_volume',\n",
    "       'numTrades', 'bid_number',\n",
    "       'ask_number', 'askbidDiffHigh',\n",
    "       'askbidDifflow', 'askbidnumTradesDiffHigh',\n",
    "       'askbidnumTradesDifflow', 'UpDownvolDiffHigh',\n",
    "       'UpDownvolDifflow', 'ATR', 'sum_lob_bid', 'sum_lob_ask',\n",
    "       'LOB_SumBidTick', 'LOB_SumAskTick', 'lob_bid_price', 'lob_bid_volume',\n",
    "       'lob_ask_price', 'lob_ask_volume', 'VAP_Prices', 'VAP_Volumes',\n",
    "       'VAP_AskVolumes', 'VAP_BidVolumes', 'VAP_NumberOfTrades',\n",
    "       'VAP_TotalVolume']"
   ]
  },
  {
   "cell_type": "code",
   "execution_count": 16,
   "metadata": {
    "pycharm": {
     "name": "#%%\n"
    }
   },
   "outputs": [
    {
     "ename": "FileNotFoundError",
     "evalue": "[Errno 2] No such file or directory: 'LOB1_NQU22-LOB1_NQZ22_1min_2PercentSum_100PercentOrders_Overlapped_2_processed/clean_labeled/LOB1_NQZ22_1min_2PercentSum_100PercentOrders_Overlapped_2_clean_labeled_0.csv'",
     "output_type": "error",
     "traceback": [
      "\u001b[1;31m---------------------------------------------------------------------------\u001b[0m",
      "\u001b[1;31mFileNotFoundError\u001b[0m                         Traceback (most recent call last)",
      "\u001b[1;32me:\\Tensurf-RL\\tensurfrl\\TensorTrade\\Tensor-0.2\\Run.ipynb Cell 13\u001b[0m in \u001b[0;36m<cell line: 2>\u001b[1;34m()\u001b[0m\n\u001b[0;32m      <a href='vscode-notebook-cell:/e%3A/Tensurf-RL/tensurfrl/TensorTrade/Tensor-0.2/Run.ipynb#X15sZmlsZQ%3D%3D?line=0'>1</a>\u001b[0m \u001b[39m# gather together cleaned datas\u001b[39;00m\n\u001b[1;32m----> <a href='vscode-notebook-cell:/e%3A/Tensurf-RL/tensurfrl/TensorTrade/Tensor-0.2/Run.ipynb#X15sZmlsZQ%3D%3D?line=1'>2</a>\u001b[0m D1\u001b[39m=\u001b[39mpd\u001b[39m.\u001b[39;49mread_csv(\u001b[39m'\u001b[39;49m\u001b[39mLOB1_NQU22-LOB1_NQZ22_1min_2PercentSum_100PercentOrders_Overlapped_2_processed/clean_labeled/LOB1_NQZ22_1min_2PercentSum_100PercentOrders_Overlapped_2_clean_labeled_0.csv\u001b[39;49m\u001b[39m'\u001b[39;49m,names\u001b[39m=\u001b[39;49m column_name, usecols \u001b[39m=\u001b[39;49m [i \u001b[39mfor\u001b[39;49;00m i \u001b[39min\u001b[39;49;00m \u001b[39mrange\u001b[39;49m(\u001b[39m33\u001b[39;49m)], delimiter\u001b[39m=\u001b[39;49m\u001b[39m\"\u001b[39;49m\u001b[39m|\u001b[39;49m\u001b[39m\"\u001b[39;49m)\n\u001b[0;32m      <a href='vscode-notebook-cell:/e%3A/Tensurf-RL/tensurfrl/TensorTrade/Tensor-0.2/Run.ipynb#X15sZmlsZQ%3D%3D?line=2'>3</a>\u001b[0m D2\u001b[39m=\u001b[39mpd\u001b[39m.\u001b[39mread_csv(\u001b[39m'\u001b[39m\u001b[39mLOB1_NQU22-LOB1_NQZ22_1min_2PercentSum_100PercentOrders_Overlapped_2_processed/clean_labeled/LOB1_NQZ22_1min_2PercentSum_100PercentOrders_Overlapped_2_clean_labeled_1.csv\u001b[39m\u001b[39m'\u001b[39m,names\u001b[39m=\u001b[39m column_name, usecols \u001b[39m=\u001b[39m [i \u001b[39mfor\u001b[39;00m i \u001b[39min\u001b[39;00m \u001b[39mrange\u001b[39m(\u001b[39m33\u001b[39m)], delimiter\u001b[39m=\u001b[39m\u001b[39m\"\u001b[39m\u001b[39m|\u001b[39m\u001b[39m\"\u001b[39m)\n\u001b[0;32m      <a href='vscode-notebook-cell:/e%3A/Tensurf-RL/tensurfrl/TensorTrade/Tensor-0.2/Run.ipynb#X15sZmlsZQ%3D%3D?line=3'>4</a>\u001b[0m D3\u001b[39m=\u001b[39mpd\u001b[39m.\u001b[39mread_csv(\u001b[39m'\u001b[39m\u001b[39mLOB1_NQU22-LOB1_NQZ22_1min_2PercentSum_100PercentOrders_Overlapped_2_processed/clean_labeled/LOB1_NQZ22_1min_2PercentSum_100PercentOrders_Overlapped_2_clean_labeled_2.csv\u001b[39m\u001b[39m'\u001b[39m,names\u001b[39m=\u001b[39m column_name, usecols \u001b[39m=\u001b[39m [i \u001b[39mfor\u001b[39;00m i \u001b[39min\u001b[39;00m \u001b[39mrange\u001b[39m(\u001b[39m33\u001b[39m)], delimiter\u001b[39m=\u001b[39m\u001b[39m\"\u001b[39m\u001b[39m|\u001b[39m\u001b[39m\"\u001b[39m)\n",
      "File \u001b[1;32mc:\\Users\\kasra\\.conda\\envs\\Ai\\lib\\site-packages\\pandas\\util\\_decorators.py:311\u001b[0m, in \u001b[0;36mdeprecate_nonkeyword_arguments.<locals>.decorate.<locals>.wrapper\u001b[1;34m(*args, **kwargs)\u001b[0m\n\u001b[0;32m    305\u001b[0m \u001b[39mif\u001b[39;00m \u001b[39mlen\u001b[39m(args) \u001b[39m>\u001b[39m num_allow_args:\n\u001b[0;32m    306\u001b[0m     warnings\u001b[39m.\u001b[39mwarn(\n\u001b[0;32m    307\u001b[0m         msg\u001b[39m.\u001b[39mformat(arguments\u001b[39m=\u001b[39marguments),\n\u001b[0;32m    308\u001b[0m         \u001b[39mFutureWarning\u001b[39;00m,\n\u001b[0;32m    309\u001b[0m         stacklevel\u001b[39m=\u001b[39mstacklevel,\n\u001b[0;32m    310\u001b[0m     )\n\u001b[1;32m--> 311\u001b[0m \u001b[39mreturn\u001b[39;00m func(\u001b[39m*\u001b[39;49margs, \u001b[39m*\u001b[39;49m\u001b[39m*\u001b[39;49mkwargs)\n",
      "File \u001b[1;32mc:\\Users\\kasra\\.conda\\envs\\Ai\\lib\\site-packages\\pandas\\io\\parsers\\readers.py:680\u001b[0m, in \u001b[0;36mread_csv\u001b[1;34m(filepath_or_buffer, sep, delimiter, header, names, index_col, usecols, squeeze, prefix, mangle_dupe_cols, dtype, engine, converters, true_values, false_values, skipinitialspace, skiprows, skipfooter, nrows, na_values, keep_default_na, na_filter, verbose, skip_blank_lines, parse_dates, infer_datetime_format, keep_date_col, date_parser, dayfirst, cache_dates, iterator, chunksize, compression, thousands, decimal, lineterminator, quotechar, quoting, doublequote, escapechar, comment, encoding, encoding_errors, dialect, error_bad_lines, warn_bad_lines, on_bad_lines, delim_whitespace, low_memory, memory_map, float_precision, storage_options)\u001b[0m\n\u001b[0;32m    665\u001b[0m kwds_defaults \u001b[39m=\u001b[39m _refine_defaults_read(\n\u001b[0;32m    666\u001b[0m     dialect,\n\u001b[0;32m    667\u001b[0m     delimiter,\n\u001b[1;32m   (...)\u001b[0m\n\u001b[0;32m    676\u001b[0m     defaults\u001b[39m=\u001b[39m{\u001b[39m\"\u001b[39m\u001b[39mdelimiter\u001b[39m\u001b[39m\"\u001b[39m: \u001b[39m\"\u001b[39m\u001b[39m,\u001b[39m\u001b[39m\"\u001b[39m},\n\u001b[0;32m    677\u001b[0m )\n\u001b[0;32m    678\u001b[0m kwds\u001b[39m.\u001b[39mupdate(kwds_defaults)\n\u001b[1;32m--> 680\u001b[0m \u001b[39mreturn\u001b[39;00m _read(filepath_or_buffer, kwds)\n",
      "File \u001b[1;32mc:\\Users\\kasra\\.conda\\envs\\Ai\\lib\\site-packages\\pandas\\io\\parsers\\readers.py:575\u001b[0m, in \u001b[0;36m_read\u001b[1;34m(filepath_or_buffer, kwds)\u001b[0m\n\u001b[0;32m    572\u001b[0m _validate_names(kwds\u001b[39m.\u001b[39mget(\u001b[39m\"\u001b[39m\u001b[39mnames\u001b[39m\u001b[39m\"\u001b[39m, \u001b[39mNone\u001b[39;00m))\n\u001b[0;32m    574\u001b[0m \u001b[39m# Create the parser.\u001b[39;00m\n\u001b[1;32m--> 575\u001b[0m parser \u001b[39m=\u001b[39m TextFileReader(filepath_or_buffer, \u001b[39m*\u001b[39;49m\u001b[39m*\u001b[39;49mkwds)\n\u001b[0;32m    577\u001b[0m \u001b[39mif\u001b[39;00m chunksize \u001b[39mor\u001b[39;00m iterator:\n\u001b[0;32m    578\u001b[0m     \u001b[39mreturn\u001b[39;00m parser\n",
      "File \u001b[1;32mc:\\Users\\kasra\\.conda\\envs\\Ai\\lib\\site-packages\\pandas\\io\\parsers\\readers.py:934\u001b[0m, in \u001b[0;36mTextFileReader.__init__\u001b[1;34m(self, f, engine, **kwds)\u001b[0m\n\u001b[0;32m    931\u001b[0m     \u001b[39mself\u001b[39m\u001b[39m.\u001b[39moptions[\u001b[39m\"\u001b[39m\u001b[39mhas_index_names\u001b[39m\u001b[39m\"\u001b[39m] \u001b[39m=\u001b[39m kwds[\u001b[39m\"\u001b[39m\u001b[39mhas_index_names\u001b[39m\u001b[39m\"\u001b[39m]\n\u001b[0;32m    933\u001b[0m \u001b[39mself\u001b[39m\u001b[39m.\u001b[39mhandles: IOHandles \u001b[39m|\u001b[39m \u001b[39mNone\u001b[39;00m \u001b[39m=\u001b[39m \u001b[39mNone\u001b[39;00m\n\u001b[1;32m--> 934\u001b[0m \u001b[39mself\u001b[39m\u001b[39m.\u001b[39m_engine \u001b[39m=\u001b[39m \u001b[39mself\u001b[39;49m\u001b[39m.\u001b[39;49m_make_engine(f, \u001b[39mself\u001b[39;49m\u001b[39m.\u001b[39;49mengine)\n",
      "File \u001b[1;32mc:\\Users\\kasra\\.conda\\envs\\Ai\\lib\\site-packages\\pandas\\io\\parsers\\readers.py:1218\u001b[0m, in \u001b[0;36mTextFileReader._make_engine\u001b[1;34m(self, f, engine)\u001b[0m\n\u001b[0;32m   1214\u001b[0m     mode \u001b[39m=\u001b[39m \u001b[39m\"\u001b[39m\u001b[39mrb\u001b[39m\u001b[39m\"\u001b[39m\n\u001b[0;32m   1215\u001b[0m \u001b[39m# error: No overload variant of \"get_handle\" matches argument types\u001b[39;00m\n\u001b[0;32m   1216\u001b[0m \u001b[39m# \"Union[str, PathLike[str], ReadCsvBuffer[bytes], ReadCsvBuffer[str]]\"\u001b[39;00m\n\u001b[0;32m   1217\u001b[0m \u001b[39m# , \"str\", \"bool\", \"Any\", \"Any\", \"Any\", \"Any\", \"Any\"\u001b[39;00m\n\u001b[1;32m-> 1218\u001b[0m \u001b[39mself\u001b[39m\u001b[39m.\u001b[39mhandles \u001b[39m=\u001b[39m get_handle(  \u001b[39m# type: ignore[call-overload]\u001b[39;49;00m\n\u001b[0;32m   1219\u001b[0m     f,\n\u001b[0;32m   1220\u001b[0m     mode,\n\u001b[0;32m   1221\u001b[0m     encoding\u001b[39m=\u001b[39;49m\u001b[39mself\u001b[39;49m\u001b[39m.\u001b[39;49moptions\u001b[39m.\u001b[39;49mget(\u001b[39m\"\u001b[39;49m\u001b[39mencoding\u001b[39;49m\u001b[39m\"\u001b[39;49m, \u001b[39mNone\u001b[39;49;00m),\n\u001b[0;32m   1222\u001b[0m     compression\u001b[39m=\u001b[39;49m\u001b[39mself\u001b[39;49m\u001b[39m.\u001b[39;49moptions\u001b[39m.\u001b[39;49mget(\u001b[39m\"\u001b[39;49m\u001b[39mcompression\u001b[39;49m\u001b[39m\"\u001b[39;49m, \u001b[39mNone\u001b[39;49;00m),\n\u001b[0;32m   1223\u001b[0m     memory_map\u001b[39m=\u001b[39;49m\u001b[39mself\u001b[39;49m\u001b[39m.\u001b[39;49moptions\u001b[39m.\u001b[39;49mget(\u001b[39m\"\u001b[39;49m\u001b[39mmemory_map\u001b[39;49m\u001b[39m\"\u001b[39;49m, \u001b[39mFalse\u001b[39;49;00m),\n\u001b[0;32m   1224\u001b[0m     is_text\u001b[39m=\u001b[39;49mis_text,\n\u001b[0;32m   1225\u001b[0m     errors\u001b[39m=\u001b[39;49m\u001b[39mself\u001b[39;49m\u001b[39m.\u001b[39;49moptions\u001b[39m.\u001b[39;49mget(\u001b[39m\"\u001b[39;49m\u001b[39mencoding_errors\u001b[39;49m\u001b[39m\"\u001b[39;49m, \u001b[39m\"\u001b[39;49m\u001b[39mstrict\u001b[39;49m\u001b[39m\"\u001b[39;49m),\n\u001b[0;32m   1226\u001b[0m     storage_options\u001b[39m=\u001b[39;49m\u001b[39mself\u001b[39;49m\u001b[39m.\u001b[39;49moptions\u001b[39m.\u001b[39;49mget(\u001b[39m\"\u001b[39;49m\u001b[39mstorage_options\u001b[39;49m\u001b[39m\"\u001b[39;49m, \u001b[39mNone\u001b[39;49;00m),\n\u001b[0;32m   1227\u001b[0m )\n\u001b[0;32m   1228\u001b[0m \u001b[39massert\u001b[39;00m \u001b[39mself\u001b[39m\u001b[39m.\u001b[39mhandles \u001b[39mis\u001b[39;00m \u001b[39mnot\u001b[39;00m \u001b[39mNone\u001b[39;00m\n\u001b[0;32m   1229\u001b[0m f \u001b[39m=\u001b[39m \u001b[39mself\u001b[39m\u001b[39m.\u001b[39mhandles\u001b[39m.\u001b[39mhandle\n",
      "File \u001b[1;32mc:\\Users\\kasra\\.conda\\envs\\Ai\\lib\\site-packages\\pandas\\io\\common.py:786\u001b[0m, in \u001b[0;36mget_handle\u001b[1;34m(path_or_buf, mode, encoding, compression, memory_map, is_text, errors, storage_options)\u001b[0m\n\u001b[0;32m    781\u001b[0m \u001b[39melif\u001b[39;00m \u001b[39misinstance\u001b[39m(handle, \u001b[39mstr\u001b[39m):\n\u001b[0;32m    782\u001b[0m     \u001b[39m# Check whether the filename is to be opened in binary mode.\u001b[39;00m\n\u001b[0;32m    783\u001b[0m     \u001b[39m# Binary mode does not support 'encoding' and 'newline'.\u001b[39;00m\n\u001b[0;32m    784\u001b[0m     \u001b[39mif\u001b[39;00m ioargs\u001b[39m.\u001b[39mencoding \u001b[39mand\u001b[39;00m \u001b[39m\"\u001b[39m\u001b[39mb\u001b[39m\u001b[39m\"\u001b[39m \u001b[39mnot\u001b[39;00m \u001b[39min\u001b[39;00m ioargs\u001b[39m.\u001b[39mmode:\n\u001b[0;32m    785\u001b[0m         \u001b[39m# Encoding\u001b[39;00m\n\u001b[1;32m--> 786\u001b[0m         handle \u001b[39m=\u001b[39m \u001b[39mopen\u001b[39;49m(\n\u001b[0;32m    787\u001b[0m             handle,\n\u001b[0;32m    788\u001b[0m             ioargs\u001b[39m.\u001b[39;49mmode,\n\u001b[0;32m    789\u001b[0m             encoding\u001b[39m=\u001b[39;49mioargs\u001b[39m.\u001b[39;49mencoding,\n\u001b[0;32m    790\u001b[0m             errors\u001b[39m=\u001b[39;49merrors,\n\u001b[0;32m    791\u001b[0m             newline\u001b[39m=\u001b[39;49m\u001b[39m\"\u001b[39;49m\u001b[39m\"\u001b[39;49m,\n\u001b[0;32m    792\u001b[0m         )\n\u001b[0;32m    793\u001b[0m     \u001b[39melse\u001b[39;00m:\n\u001b[0;32m    794\u001b[0m         \u001b[39m# Binary mode\u001b[39;00m\n\u001b[0;32m    795\u001b[0m         handle \u001b[39m=\u001b[39m \u001b[39mopen\u001b[39m(handle, ioargs\u001b[39m.\u001b[39mmode)\n",
      "\u001b[1;31mFileNotFoundError\u001b[0m: [Errno 2] No such file or directory: 'LOB1_NQU22-LOB1_NQZ22_1min_2PercentSum_100PercentOrders_Overlapped_2_processed/clean_labeled/LOB1_NQZ22_1min_2PercentSum_100PercentOrders_Overlapped_2_clean_labeled_0.csv'"
     ]
    }
   ],
   "source": [
    "# gather together cleaned datas\n",
    "D1=pd.read_csv('LOB1_NQZ22_1min_2PercentSum_100PercentOrders_Overlapped_2_processed/clean_labeled/LOB1_NQZ22_1min_2PercentSum_100PercentOrders_Overlapped_2_clean_labeled_0.csv',names= column_name, usecols = [i for i in range(33)], delimiter=\"|\")\n",
    "D2=pd.read_csv('LOB1_NQZ22_1min_2PercentSum_100PercentOrders_Overlapped_2_processed/clean_labeled/LOB1_NQZ22_1min_2PercentSum_100PercentOrders_Overlapped_2_clean_labeled_1.csv',names= column_name, usecols = [i for i in range(33)], delimiter=\"|\")\n",
    "D3=pd.read_csv('LOB1_NQZ22_1min_2PercentSum_100PercentOrders_Overlapped_2_processed/clean_labeled/LOB1_NQZ22_1min_2PercentSum_100PercentOrders_Overlapped_2_clean_labeled_2.csv',names= column_name, usecols = [i for i in range(33)], delimiter=\"|\")"
   ]
  },
  {
   "cell_type": "code",
   "execution_count": 7,
   "metadata": {
    "pycharm": {
     "name": "#%%\n"
    }
   },
   "outputs": [],
   "source": [
    "Data= pd.concat([D1,D2,D3])\n",
    "Data[\"DateTime\"] = pd.to_datetime(Data[\"DateTime\"])\n",
    "Data.set_index([\"DateTime\"], inplace=True)"
   ]
  },
  {
   "cell_type": "code",
   "execution_count": 8,
   "metadata": {
    "pycharm": {
     "name": "#%%\n"
    }
   },
   "outputs": [
    {
     "data": {
      "text/html": [
       "<div>\n",
       "<style scoped>\n",
       "    .dataframe tbody tr th:only-of-type {\n",
       "        vertical-align: middle;\n",
       "    }\n",
       "\n",
       "    .dataframe tbody tr th {\n",
       "        vertical-align: top;\n",
       "    }\n",
       "\n",
       "    .dataframe thead th {\n",
       "        text-align: right;\n",
       "    }\n",
       "</style>\n",
       "<table border=\"1\" class=\"dataframe\">\n",
       "  <thead>\n",
       "    <tr style=\"text-align: right;\">\n",
       "      <th></th>\n",
       "      <th>open</th>\n",
       "      <th>high</th>\n",
       "      <th>low</th>\n",
       "      <th>close</th>\n",
       "      <th>Candle_LastTradePrice</th>\n",
       "      <th>volume</th>\n",
       "      <th>bid_volume</th>\n",
       "      <th>ask_volume</th>\n",
       "      <th>numTrades</th>\n",
       "      <th>bid_number</th>\n",
       "      <th>...</th>\n",
       "      <th>lob_bid_price</th>\n",
       "      <th>lob_bid_volume</th>\n",
       "      <th>lob_ask_price</th>\n",
       "      <th>lob_ask_volume</th>\n",
       "      <th>VAP_Prices</th>\n",
       "      <th>VAP_Volumes</th>\n",
       "      <th>VAP_AskVolumes</th>\n",
       "      <th>VAP_BidVolumes</th>\n",
       "      <th>VAP_NumberOfTrades</th>\n",
       "      <th>VAP_TotalVolume</th>\n",
       "    </tr>\n",
       "    <tr>\n",
       "      <th>DateTime</th>\n",
       "      <th></th>\n",
       "      <th></th>\n",
       "      <th></th>\n",
       "      <th></th>\n",
       "      <th></th>\n",
       "      <th></th>\n",
       "      <th></th>\n",
       "      <th></th>\n",
       "      <th></th>\n",
       "      <th></th>\n",
       "      <th></th>\n",
       "      <th></th>\n",
       "      <th></th>\n",
       "      <th></th>\n",
       "      <th></th>\n",
       "      <th></th>\n",
       "      <th></th>\n",
       "      <th></th>\n",
       "      <th></th>\n",
       "      <th></th>\n",
       "      <th></th>\n",
       "    </tr>\n",
       "  </thead>\n",
       "  <tbody>\n",
       "    <tr>\n",
       "      <th>2022-06-19 23:59:00</th>\n",
       "      <td>11385.5</td>\n",
       "      <td>11385.50</td>\n",
       "      <td>11378.00</td>\n",
       "      <td>11379.25</td>\n",
       "      <td>11378.50</td>\n",
       "      <td>129</td>\n",
       "      <td>66</td>\n",
       "      <td>63</td>\n",
       "      <td>123</td>\n",
       "      <td>66</td>\n",
       "      <td>...</td>\n",
       "      <td>11383.00,11383.25,11383.50,11383.75,11384.00,1...</td>\n",
       "      <td>1,2,1,1,1,2,2,1,1,1</td>\n",
       "      <td>11378.25,11378.50,11378.75,11379.00,11379.25,1...</td>\n",
       "      <td>2,1,1,1,2,1,2,2,2,1</td>\n",
       "      <td>11378.00,11378.25,11378.50,11378.75,11379.00,1...</td>\n",
       "      <td>3,3,12,32,15,17,14,5,8,1,2,2,1,2,1,2,1,4,1,1,1,1,</td>\n",
       "      <td>0,0,3,20,9,11,8,2,7,1,0,0,0,0,0,0,0,2,0,0,0,0,</td>\n",
       "      <td>3,3,9,12,6,6,6,3,1,0,2,2,1,2,1,2,1,2,1,1,1,1,</td>\n",
       "      <td>3,3,12,29,14,17,14,5,6,1,2,2,1,2,1,2,1,4,1,1,1,1,</td>\n",
       "      <td>129</td>\n",
       "    </tr>\n",
       "    <tr>\n",
       "      <th>2022-06-20 00:00:00</th>\n",
       "      <td>11378.5</td>\n",
       "      <td>11387.25</td>\n",
       "      <td>11369.50</td>\n",
       "      <td>11381.25</td>\n",
       "      <td>11382.00</td>\n",
       "      <td>343</td>\n",
       "      <td>171</td>\n",
       "      <td>172</td>\n",
       "      <td>327</td>\n",
       "      <td>170</td>\n",
       "      <td>...</td>\n",
       "      <td>11384.50,11384.75,11385.00,11385.25,11385.50,1...</td>\n",
       "      <td>2,1,1,1,1,2,2,3,2,1</td>\n",
       "      <td>11370.00,11370.25,11370.50,11370.75,11371.00,1...</td>\n",
       "      <td>1,1,2,2,2,1,1,2,1,1</td>\n",
       "      <td>11369.50,11369.75,11370.00,11370.25,11370.50,1...</td>\n",
       "      <td>1,1,4,1,1,5,1,1,2,1,10,6,7,3,13,2,2,3,2,2,3,2,...</td>\n",
       "      <td>0,0,1,1,1,1,0,0,1,1,0,3,3,0,10,1,1,2,2,1,1,2,2...</td>\n",
       "      <td>1,1,3,0,0,4,1,1,1,0,10,3,4,3,3,1,1,1,0,1,2,0,2...</td>\n",
       "      <td>1,1,4,1,1,5,1,1,2,1,10,6,7,3,10,2,2,3,2,2,3,2,...</td>\n",
       "      <td>343</td>\n",
       "    </tr>\n",
       "    <tr>\n",
       "      <th>2022-06-20 00:01:00</th>\n",
       "      <td>11382.0</td>\n",
       "      <td>11397.25</td>\n",
       "      <td>11379.75</td>\n",
       "      <td>11395.50</td>\n",
       "      <td>11397.25</td>\n",
       "      <td>282</td>\n",
       "      <td>84</td>\n",
       "      <td>198</td>\n",
       "      <td>255</td>\n",
       "      <td>83</td>\n",
       "      <td>...</td>\n",
       "      <td>11394.25,11394.50,11394.75,11395.00,11395.25,1...</td>\n",
       "      <td>4,4,3,1,1,3,4,3,1,2</td>\n",
       "      <td>11380.25,11380.50,11380.75,11381.00,11381.25,1...</td>\n",
       "      <td>1,1,14,1,1,1,1,1,1,1</td>\n",
       "      <td>11379.75,11380.25,11380.50,11380.75,11381.00,1...</td>\n",
       "      <td>1,4,3,26,2,4,1,2,7,3,3,2,3,4,3,7,3,4,9,4,3,2,2...</td>\n",
       "      <td>0,0,1,25,0,4,0,0,4,0,2,1,2,0,0,5,2,0,9,2,2,1,1...</td>\n",
       "      <td>1,4,2,1,2,0,1,2,3,3,1,1,1,4,3,2,1,4,0,2,1,1,1,...</td>\n",
       "      <td>1,4,3,8,2,4,1,2,7,3,3,2,3,3,3,7,3,4,9,4,3,2,2,...</td>\n",
       "      <td>282</td>\n",
       "    </tr>\n",
       "  </tbody>\n",
       "</table>\n",
       "<p>3 rows × 32 columns</p>\n",
       "</div>"
      ],
      "text/plain": [
       "                        open      high       low     close  \\\n",
       "DateTime                                                     \n",
       "2022-06-19 23:59:00  11385.5  11385.50  11378.00  11379.25   \n",
       "2022-06-20 00:00:00  11378.5  11387.25  11369.50  11381.25   \n",
       "2022-06-20 00:01:00  11382.0  11397.25  11379.75  11395.50   \n",
       "\n",
       "                     Candle_LastTradePrice  volume  bid_volume  ask_volume  \\\n",
       "DateTime                                                                     \n",
       "2022-06-19 23:59:00               11378.50     129          66          63   \n",
       "2022-06-20 00:00:00               11382.00     343         171         172   \n",
       "2022-06-20 00:01:00               11397.25     282          84         198   \n",
       "\n",
       "                     numTrades  bid_number  ...  \\\n",
       "DateTime                                    ...   \n",
       "2022-06-19 23:59:00        123          66  ...   \n",
       "2022-06-20 00:00:00        327         170  ...   \n",
       "2022-06-20 00:01:00        255          83  ...   \n",
       "\n",
       "                                                         lob_bid_price  \\\n",
       "DateTime                                                                 \n",
       "2022-06-19 23:59:00  11383.00,11383.25,11383.50,11383.75,11384.00,1...   \n",
       "2022-06-20 00:00:00  11384.50,11384.75,11385.00,11385.25,11385.50,1...   \n",
       "2022-06-20 00:01:00  11394.25,11394.50,11394.75,11395.00,11395.25,1...   \n",
       "\n",
       "                          lob_bid_volume  \\\n",
       "DateTime                                   \n",
       "2022-06-19 23:59:00  1,2,1,1,1,2,2,1,1,1   \n",
       "2022-06-20 00:00:00  2,1,1,1,1,2,2,3,2,1   \n",
       "2022-06-20 00:01:00  4,4,3,1,1,3,4,3,1,2   \n",
       "\n",
       "                                                         lob_ask_price  \\\n",
       "DateTime                                                                 \n",
       "2022-06-19 23:59:00  11378.25,11378.50,11378.75,11379.00,11379.25,1...   \n",
       "2022-06-20 00:00:00  11370.00,11370.25,11370.50,11370.75,11371.00,1...   \n",
       "2022-06-20 00:01:00  11380.25,11380.50,11380.75,11381.00,11381.25,1...   \n",
       "\n",
       "                           lob_ask_volume  \\\n",
       "DateTime                                    \n",
       "2022-06-19 23:59:00   2,1,1,1,2,1,2,2,2,1   \n",
       "2022-06-20 00:00:00   1,1,2,2,2,1,1,2,1,1   \n",
       "2022-06-20 00:01:00  1,1,14,1,1,1,1,1,1,1   \n",
       "\n",
       "                                                            VAP_Prices  \\\n",
       "DateTime                                                                 \n",
       "2022-06-19 23:59:00  11378.00,11378.25,11378.50,11378.75,11379.00,1...   \n",
       "2022-06-20 00:00:00  11369.50,11369.75,11370.00,11370.25,11370.50,1...   \n",
       "2022-06-20 00:01:00  11379.75,11380.25,11380.50,11380.75,11381.00,1...   \n",
       "\n",
       "                                                           VAP_Volumes  \\\n",
       "DateTime                                                                 \n",
       "2022-06-19 23:59:00  3,3,12,32,15,17,14,5,8,1,2,2,1,2,1,2,1,4,1,1,1,1,   \n",
       "2022-06-20 00:00:00  1,1,4,1,1,5,1,1,2,1,10,6,7,3,13,2,2,3,2,2,3,2,...   \n",
       "2022-06-20 00:01:00  1,4,3,26,2,4,1,2,7,3,3,2,3,4,3,7,3,4,9,4,3,2,2...   \n",
       "\n",
       "                                                        VAP_AskVolumes  \\\n",
       "DateTime                                                                 \n",
       "2022-06-19 23:59:00     0,0,3,20,9,11,8,2,7,1,0,0,0,0,0,0,0,2,0,0,0,0,   \n",
       "2022-06-20 00:00:00  0,0,1,1,1,1,0,0,1,1,0,3,3,0,10,1,1,2,2,1,1,2,2...   \n",
       "2022-06-20 00:01:00  0,0,1,25,0,4,0,0,4,0,2,1,2,0,0,5,2,0,9,2,2,1,1...   \n",
       "\n",
       "                                                        VAP_BidVolumes  \\\n",
       "DateTime                                                                 \n",
       "2022-06-19 23:59:00      3,3,9,12,6,6,6,3,1,0,2,2,1,2,1,2,1,2,1,1,1,1,   \n",
       "2022-06-20 00:00:00  1,1,3,0,0,4,1,1,1,0,10,3,4,3,3,1,1,1,0,1,2,0,2...   \n",
       "2022-06-20 00:01:00  1,4,2,1,2,0,1,2,3,3,1,1,1,4,3,2,1,4,0,2,1,1,1,...   \n",
       "\n",
       "                                                    VAP_NumberOfTrades  \\\n",
       "DateTime                                                                 \n",
       "2022-06-19 23:59:00  3,3,12,29,14,17,14,5,6,1,2,2,1,2,1,2,1,4,1,1,1,1,   \n",
       "2022-06-20 00:00:00  1,1,4,1,1,5,1,1,2,1,10,6,7,3,10,2,2,3,2,2,3,2,...   \n",
       "2022-06-20 00:01:00  1,4,3,8,2,4,1,2,7,3,3,2,3,3,3,7,3,4,9,4,3,2,2,...   \n",
       "\n",
       "                     VAP_TotalVolume  \n",
       "DateTime                              \n",
       "2022-06-19 23:59:00              129  \n",
       "2022-06-20 00:00:00              343  \n",
       "2022-06-20 00:01:00              282  \n",
       "\n",
       "[3 rows x 32 columns]"
      ]
     },
     "execution_count": 8,
     "metadata": {},
     "output_type": "execute_result"
    }
   ],
   "source": [
    "Data.head(3)"
   ]
  },
  {
   "cell_type": "code",
   "execution_count": 9,
   "metadata": {
    "pycharm": {
     "name": "#%%\n"
    }
   },
   "outputs": [
    {
     "data": {
      "text/plain": [
       "'\\n\\n\\nTrain Test and Optimize\\n\\n\\n\\n'"
      ]
     },
     "execution_count": 9,
     "metadata": {},
     "output_type": "execute_result"
    }
   ],
   "source": [
    "'''\n",
    "\n",
    "\n",
    "Train Test and Optimize\n",
    "\n",
    "\n",
    "\n",
    "'''"
   ]
  },
  {
   "cell_type": "code",
   "execution_count": 11,
   "metadata": {
    "pycharm": {
     "name": "#%%\n"
    }
   },
   "outputs": [],
   "source": [
    "# func to create environment\n",
    "\n",
    "def create_env_train(data,price,date,config):\n",
    "\n",
    "    env= Environment_Train.StockTradingEnv_Train(data,price,date,config)\n",
    "    \n",
    "    return env"
   ]
  },
  {
   "cell_type": "code",
   "execution_count": 12,
   "metadata": {
    "pycharm": {
     "name": "#%%\n"
    }
   },
   "outputs": [],
   "source": [
    "# func to create test environment\n",
    "\n",
    "def create_env_test(data,price,date,config):\n",
    "\n",
    "    env= Environment_Test.StockTradingEnv_Test(data,price,date,config)\n",
    "\n",
    "    return env"
   ]
  },
  {
   "cell_type": "code",
   "execution_count": 13,
   "metadata": {
    "pycharm": {
     "name": "#%%\n"
    }
   },
   "outputs": [],
   "source": [
    "# import RL agents\n",
    "from stable_baselines3 import A2C,DQN,PPO\n",
    "# import environment checker\n",
    "from stable_baselines3.common import env_checker"
   ]
  },
  {
   "cell_type": "code",
   "execution_count": 14,
   "metadata": {
    "pycharm": {
     "name": "#%%\n"
    }
   },
   "outputs": [],
   "source": [
    "# # check if environment meet gym policy\n",
    "# env_checker.check_env(env_train , warn=False, skip_render_check=True)"
   ]
  },
  {
   "cell_type": "code",
   "execution_count": 15,
   "metadata": {
    "pycharm": {
     "name": "#%%\n"
    }
   },
   "outputs": [],
   "source": [
    "# import torch.nn.functional as F\n",
    "# from torch.utils import data\n",
    "# from torchinfo import summary\n",
    "# from typing import Callable, Dict, List, Optional, Tuple, Type, Union\n",
    "# from stable_baselines3.common.policies import ActorCriticPolicy"
   ]
  },
  {
   "cell_type": "code",
   "execution_count": 16,
   "metadata": {
    "pycharm": {
     "name": "#%%\n"
    }
   },
   "outputs": [],
   "source": [
    "# make neural net for RL model\n",
    "import gym\n",
    "import torch\n",
    "import torch as th\n",
    "import torch.nn as nn\n",
    "#from torch import nn\n",
    "from stable_baselines3.common.torch_layers import BaseFeaturesExtractor\n",
    "\n",
    "class CustomCNN(BaseFeaturesExtractor):\n",
    "    \"\"\"\n",
    "    :param observation_space: (gym.Space)\n",
    "    :param features_dim: (int) Number of features extracted.\n",
    "        This corresponds to the number of unit for the last layer.\n",
    "    \"\"\"\n",
    "\n",
    "    def __init__(self, observation_space: gym.spaces.Box, features_dim: int ):\n",
    "     \n",
    "        super(CustomCNN, self).__init__(observation_space, features_dim)\n",
    "        # We assume CxHxW images (channels first)\n",
    "        # Re-ordering will be done by pre-preprocessing or wrapper\n",
    "        n_input_channels = observation_space.shape[0]\n",
    "        # convolution blocks\n",
    "        self.conv1 = nn.Sequential(\n",
    "            nn.Conv2d(in_channels=1, out_channels=32, kernel_size=(1,4), stride=(1,2)),\n",
    "            nn.LeakyReLU(negative_slope=0.01),\n",
    "#             nn.Tanh(),\n",
    "            nn.BatchNorm2d(32),\n",
    "            nn.Conv2d(in_channels=32, out_channels=32, kernel_size=(4,1)),\n",
    "            nn.LeakyReLU(negative_slope=0.01),\n",
    "            nn.BatchNorm2d(32),\n",
    "            nn.Conv2d(in_channels=32, out_channels=32, kernel_size=(4,1)),\n",
    "            nn.LeakyReLU(negative_slope=0.01),\n",
    "            nn.BatchNorm2d(32),\n",
    "        )\n",
    "        self.conv2 = nn.Sequential(\n",
    "            nn.Conv2d(in_channels=32, out_channels=32, kernel_size=(1,4), stride=(1,2)),\n",
    "            nn.Tanh(),\n",
    "            nn.BatchNorm2d(32),\n",
    "            nn.Conv2d(in_channels=32, out_channels=32, kernel_size=(4,1)),\n",
    "            nn.Tanh(),\n",
    "            nn.BatchNorm2d(32),\n",
    "            nn.Conv2d(in_channels=32, out_channels=32, kernel_size=(4,1)),\n",
    "            nn.Tanh(),\n",
    "            nn.BatchNorm2d(32),\n",
    "        )\n",
    "        self.conv3 = nn.Sequential(\n",
    "            nn.Conv2d(in_channels=32, out_channels=32, kernel_size=(1,10)),\n",
    "            nn.LeakyReLU(negative_slope=0.01),\n",
    "            nn.BatchNorm2d(32),\n",
    "            nn.Conv2d(in_channels=32, out_channels=32, kernel_size=(4,1)),\n",
    "            nn.LeakyReLU(negative_slope=0.01),\n",
    "             nn.BatchNorm2d(32),\n",
    "            nn.Conv2d(in_channels=32, out_channels=32, kernel_size=(4,1)),\n",
    "            nn.LeakyReLU(negative_slope=0.01),\n",
    "            nn.BatchNorm2d(32),\n",
    "        )\n",
    "        \n",
    "        # inception moduels\n",
    "        self.inp1 = nn.Sequential(\n",
    "            nn.Conv2d(in_channels=32, out_channels=64, kernel_size=(1,1), padding='same'),\n",
    "            nn.LeakyReLU(negative_slope=0.01),\n",
    "            nn.BatchNorm2d(64),\n",
    "            nn.Conv2d(in_channels=64, out_channels=64, kernel_size=(3,1), padding='same'),\n",
    "            nn.LeakyReLU(negative_slope=0.01),\n",
    "            nn.BatchNorm2d(64),\n",
    "        )\n",
    "        self.inp2 = nn.Sequential(\n",
    "            nn.Conv2d(in_channels=32, out_channels=64, kernel_size=(1,1), padding='same'),\n",
    "            nn.LeakyReLU(negative_slope=0.01),\n",
    "            nn.BatchNorm2d(64),\n",
    "            nn.Conv2d(in_channels=64, out_channels=64, kernel_size=(5,1), padding='same'),\n",
    "            nn.LeakyReLU(negative_slope=0.01),\n",
    "            nn.BatchNorm2d(64),\n",
    "        )\n",
    "        self.inp3 = nn.Sequential(\n",
    "            nn.MaxPool2d((3, 1), stride=(1, 1), padding=(1, 0)),\n",
    "            nn.Conv2d(in_channels=32, out_channels=64, kernel_size=(1,1), padding='same'),\n",
    "            nn.LeakyReLU(negative_slope=0.01),\n",
    "            nn.BatchNorm2d(64),\n",
    "        )\n",
    "        # Compute shape by doing one forward pass\n",
    "        # with th.no_grad():\n",
    "        #     n_flatten = self.inp3(\n",
    "        #         th.as_tensor(observation_space.sample()[None]).float()\n",
    "        #     ).shape[1]\n",
    "        \n",
    "        # lstm layers\n",
    "        self.lstm = nn.LSTM(input_size=192, hidden_size=64, num_layers=1, batch_first=True)\n",
    "        self.fc1 = nn.Linear(64, features_dim)\n",
    "\n",
    "    def forward(self, x: th.Tensor) -> th.Tensor:\n",
    "        \n",
    "        # return self.linear(self.lstm(self.cnn(observations)))\n",
    "        # h0: (number of hidden layers, batch size, hidden size)\n",
    "        h0 = torch.zeros(1, x.size(0), 64).to(device)\n",
    "        c0 = torch.zeros(1, x.size(0), 64).to(device)\n",
    "       \n",
    "        x = self.conv1(x)\n",
    "        x = self.conv2(x)\n",
    "        x = self.conv3(x)\n",
    "        \n",
    "        x_inp1 = self.inp1(x)\n",
    "        x_inp2 = self.inp2(x)\n",
    "        x_inp3 = self.inp3(x)  \n",
    "        \n",
    "        x = torch.cat((x_inp1, x_inp2, x_inp3), dim=1)\n",
    "        \n",
    "#         x = torch.transpose(x, 1, 2)\n",
    "        x = x.permute(0, 2, 1, 3)\n",
    "        x = torch.reshape(x, (-1, x.shape[1], x.shape[2]))\n",
    "        x, _ = self.lstm(x, (h0, c0))\n",
    "        x = x[:, -1, :]\n",
    "        x = self.fc1(x)\n",
    "        # forecast_y = torch.softmax(x, dim=1)\n",
    "        return x\n",
    "\n",
    "policy_kwargs = dict(\n",
    "    features_extractor_class=CustomCNN,\n",
    "    features_extractor_kwargs=dict(features_dim=49),\n",
    "    net_arch=[dict(vf=[64], pi=[64])]\n",
    ")"
   ]
  },
  {
   "cell_type": "code",
   "execution_count": null,
   "metadata": {
    "pycharm": {
     "name": "#%%\n"
    }
   },
   "outputs": [],
   "source": []
  },
  {
   "cell_type": "code",
   "execution_count": 17,
   "metadata": {
    "pycharm": {
     "name": "#%%\n"
    }
   },
   "outputs": [],
   "source": [
    "def Main(config, trial=None):\n",
    "   \n",
    "    if config['RUNNING_MODE'] == 'optimize':\n",
    "        config = select_params_value(trial, config)\n",
    "\n",
    "    # Data Feature Engineering\n",
    "    preProcessedData = FeatureEngineering(Data,config['Feature_engineering'])\n",
    "    LOB_Data_train,LOB_Data_test,LOB_Data_train_unnormal,LOB_Data_test_unnormal,LOB_Train_dates,LOB_Test_dates = preProcessedData.add_all_features()\n",
    "\n",
    "    # make train data\n",
    "    Time_Data = LOB_Train_dates # just time column\n",
    "    Data_Train=LOB_Data_train\n",
    "    Price_Data = pd.DataFrame(LOB_Data_train_unnormal[['open','high','low','close']]) # just price related columns\n",
    "\n",
    "    # make test data\n",
    "    Data_Test=LOB_Data_test\n",
    "    Price_Data_Test = pd.DataFrame(LOB_Data_test_unnormal[['open','high','low','close']]) # just price related columns\n",
    "    #Price_Data_Test.reset_index(drop=True,inplace=True)\n",
    "    Time_Data_Test = LOB_Test_dates  # just time column\n",
    "\n",
    "    # Number of objectives\n",
    "    obj_no = config['number_of_objectives']\n",
    "\n",
    "    # create train env\n",
    "    global env_train\n",
    "    env_train= create_env_train(Data_Train.copy(),Price_Data.copy(),Time_Data,config['env_config_train'])\n",
    "\n",
    "    # create test env\n",
    "    global env_test\n",
    "    env_test =  create_env_test(Data_Test.copy(),Price_Data_Test.copy(),Time_Data_Test,config['env_config_test'])\n",
    "\n",
    "    # create RL model\n",
    "    #policy_kwargs = dict(net_arch=[8,16, dict(vf=[32,64,128,256], pi=[32,64,128,256])])\n",
    "    global RL_model\n",
    "    RL_model = A2C(config['A2C_PARAMS']['net_arch'], env_train, verbose=1,device=device,\n",
    "    learning_rate=config['A2C_PARAMS']['learning_rate'], policy_kwargs=policy_kwargs,seed=config['A2C_PARAMS']['SEED'])\n",
    "    RL_model.learn(total_timesteps=config['A2C_PARAMS']['TOTAL_TIMESTEPS'])\n",
    "\n",
    "    if config['RUNNING_MODE'] == 'optimize':\n",
    "        RL_model.save(f\"RlSurf-A2C-{trial.number}\")\n",
    "\n",
    "    # test RL model on test data\n",
    "    obs = env_test.get_state()    #~ we should not reset env manullay\n",
    "    number_candle=0 \n",
    "\n",
    "    while True: \n",
    "    \n",
    "        action, _states = RL_model.predict(obs,deterministic=True)\n",
    "    \n",
    "        number_candle+=1\n",
    "        obs, rewards, done, info = env_test.step(action)\n",
    "\n",
    "        if done:\n",
    "\n",
    "            if env_test.day_index>= len(env_test.day_indices)-1:\n",
    "                    print(\"Account Balance Is : \", info['account_status'])\n",
    "                    \n",
    "                    break\n",
    "            else:\n",
    "                print('episode(Day) is : ',env_test.episode)\n",
    "                env_test.reset()\n",
    "\n",
    "    if config['RUNNING_MODE'] in ('backtest','train') :\n",
    "            (env_test.tradeslist).to_csv('results/TradeList.csv',sep=',')\n",
    "            env_test.show_results()\n",
    "\n",
    "    elif Config['RUNNING_MODE'] == 'optimize':\n",
    "            prom,profactor= env_test.show_results()\n",
    "            if obj_no == 1:\n",
    "                return prom\n",
    "            elif obj_no == 2:\n",
    "                return prom, profactor\n",
    "\n",
    "############## change config for each trial               \n",
    "def select_params_value(trial, config):\n",
    "    \n",
    "    optimization_params = json.load(open('optimization_params.json'))\n",
    "    for key, value in optimization_params.items():\n",
    "        if key.startswith('_'):\n",
    "            continue\n",
    "      \n",
    "        param_value = getattr(trial, value[0])(key, **value[1])\n",
    "\n",
    "        if key in config['A2C_PARAMS'].keys():\n",
    "            config['A2C_PARAMS'][key] = param_value\n",
    "\n",
    "        elif key in config['env_config_train'].keys():\n",
    "            config['env_config_train'][key] = param_value\n",
    "\n",
    "        elif key in config['env_config_test'].keys():\n",
    "            config['env_config_test'][key] = param_value\n",
    "        \n",
    "        elif key in config['Feature_engineering'].keys():\n",
    "            config['Feature_engineering'][key] = param_value\n",
    "\n",
    "        else:\n",
    "            raise Exception('Undefined parameter ' + key)\n",
    "            \n",
    "    return config"
   ]
  },
  {
   "cell_type": "code",
   "execution_count": 29,
   "metadata": {
    "pycharm": {
     "name": "#%%\n"
    }
   },
   "outputs": [],
   "source": []
  },
  {
   "cell_type": "code",
   "execution_count": 21,
   "metadata": {
    "pycharm": {
     "name": "#%%\n"
    }
   },
   "outputs": [
    {
     "name": "stdout",
     "output_type": "stream",
     "text": [
      "Using cpu device\n",
      "Wrapping the env with a `Monitor` wrapper\n",
      "Wrapping the env in a DummyVecEnv.\n",
      "------------------------------------\n",
      "| time/                 |          |\n",
      "|    fps                | 33       |\n",
      "|    iterations         | 100      |\n",
      "|    time_elapsed       | 15       |\n",
      "|    total_timesteps    | 500      |\n",
      "| train/                |          |\n",
      "|    entropy_loss       | -1.06    |\n",
      "|    explained_variance | -2.42    |\n",
      "|    learning_rate      | 0.0009   |\n",
      "|    n_updates          | 99       |\n",
      "|    policy_loss        | 0.0334   |\n",
      "|    value_loss         | 0.0998   |\n",
      "------------------------------------\n",
      "------------------------------------\n",
      "| time/                 |          |\n",
      "|    fps                | 34       |\n",
      "|    iterations         | 200      |\n",
      "|    time_elapsed       | 28       |\n",
      "|    total_timesteps    | 1000     |\n",
      "| train/                |          |\n",
      "|    entropy_loss       | -0.794   |\n",
      "|    explained_variance | 0.832    |\n",
      "|    learning_rate      | 0.0009   |\n",
      "|    n_updates          | 199      |\n",
      "|    policy_loss        | 0.0161   |\n",
      "|    value_loss         | 0.0017   |\n",
      "------------------------------------\n",
      "------------------------------------\n",
      "| time/                 |          |\n",
      "|    fps                | 34       |\n",
      "|    iterations         | 300      |\n",
      "|    time_elapsed       | 43       |\n",
      "|    total_timesteps    | 1500     |\n",
      "| train/                |          |\n",
      "|    entropy_loss       | -0.692   |\n",
      "|    explained_variance | -0.412   |\n",
      "|    learning_rate      | 0.0009   |\n",
      "|    n_updates          | 299      |\n",
      "|    policy_loss        | 0.228    |\n",
      "|    value_loss         | 0.00838  |\n",
      "------------------------------------\n",
      "------------------------------------\n",
      "| time/                 |          |\n",
      "|    fps                | 34       |\n",
      "|    iterations         | 400      |\n",
      "|    time_elapsed       | 57       |\n",
      "|    total_timesteps    | 2000     |\n",
      "| train/                |          |\n",
      "|    entropy_loss       | -0.978   |\n",
      "|    explained_variance | 0.224    |\n",
      "|    learning_rate      | 0.0009   |\n",
      "|    n_updates          | 399      |\n",
      "|    policy_loss        | -0.0446  |\n",
      "|    value_loss         | 0.00284  |\n",
      "------------------------------------\n",
      "------------------------------------\n",
      "| time/                 |          |\n",
      "|    fps                | 34       |\n",
      "|    iterations         | 500      |\n",
      "|    time_elapsed       | 71       |\n",
      "|    total_timesteps    | 2500     |\n",
      "| train/                |          |\n",
      "|    entropy_loss       | -0.478   |\n",
      "|    explained_variance | 0.606    |\n",
      "|    learning_rate      | 0.0009   |\n",
      "|    n_updates          | 499      |\n",
      "|    policy_loss        | 0.0682   |\n",
      "|    value_loss         | 0.0159   |\n",
      "------------------------------------\n",
      "------------------------------------\n",
      "| rollout/              |          |\n",
      "|    ep_len_mean        | 2.64e+03 |\n",
      "|    ep_rew_mean        | 3.38     |\n",
      "| time/                 |          |\n",
      "|    fps                | 35       |\n",
      "|    iterations         | 600      |\n",
      "|    time_elapsed       | 85       |\n",
      "|    total_timesteps    | 3000     |\n",
      "| train/                |          |\n",
      "|    entropy_loss       | -0.392   |\n",
      "|    explained_variance | -0.1     |\n",
      "|    learning_rate      | 0.0009   |\n",
      "|    n_updates          | 599      |\n",
      "|    policy_loss        | -0.00519 |\n",
      "|    value_loss         | 0.00183  |\n",
      "------------------------------------\n",
      "------------------------------------\n",
      "| rollout/              |          |\n",
      "|    ep_len_mean        | 2.64e+03 |\n",
      "|    ep_rew_mean        | 3.38     |\n",
      "| time/                 |          |\n",
      "|    fps                | 34       |\n",
      "|    iterations         | 700      |\n",
      "|    time_elapsed       | 100      |\n",
      "|    total_timesteps    | 3500     |\n",
      "| train/                |          |\n",
      "|    entropy_loss       | -0.911   |\n",
      "|    explained_variance | 0.0159   |\n",
      "|    learning_rate      | 0.0009   |\n",
      "|    n_updates          | 699      |\n",
      "|    policy_loss        | -0.0432  |\n",
      "|    value_loss         | 0.0141   |\n",
      "------------------------------------\n",
      "------------------------------------\n",
      "| rollout/              |          |\n",
      "|    ep_len_mean        | 2.64e+03 |\n",
      "|    ep_rew_mean        | 3.38     |\n",
      "| time/                 |          |\n",
      "|    fps                | 34       |\n",
      "|    iterations         | 800      |\n",
      "|    time_elapsed       | 114      |\n",
      "|    total_timesteps    | 4000     |\n",
      "| train/                |          |\n",
      "|    entropy_loss       | -0.645   |\n",
      "|    explained_variance | -0.655   |\n",
      "|    learning_rate      | 0.0009   |\n",
      "|    n_updates          | 799      |\n",
      "|    policy_loss        | 0.0223   |\n",
      "|    value_loss         | 0.101    |\n",
      "------------------------------------\n",
      "-------------------------------------\n",
      "| rollout/              |           |\n",
      "|    ep_len_mean        | 2.01e+03  |\n",
      "|    ep_rew_mean        | -1.01     |\n",
      "| time/                 |           |\n",
      "|    fps                | 34        |\n",
      "|    iterations         | 900       |\n",
      "|    time_elapsed       | 129       |\n",
      "|    total_timesteps    | 4500      |\n",
      "| train/                |           |\n",
      "|    entropy_loss       | -1.05     |\n",
      "|    explained_variance | -0.432    |\n",
      "|    learning_rate      | 0.0009    |\n",
      "|    n_updates          | 899       |\n",
      "|    policy_loss        | -0.000685 |\n",
      "|    value_loss         | 0.0037    |\n",
      "-------------------------------------\n",
      "------------------------------------\n",
      "| rollout/              |          |\n",
      "|    ep_len_mean        | 2.01e+03 |\n",
      "|    ep_rew_mean        | -1.01    |\n",
      "| time/                 |          |\n",
      "|    fps                | 34       |\n",
      "|    iterations         | 1000     |\n",
      "|    time_elapsed       | 143      |\n",
      "|    total_timesteps    | 5000     |\n",
      "| train/                |          |\n",
      "|    entropy_loss       | -1.09    |\n",
      "|    explained_variance | -12      |\n",
      "|    learning_rate      | 0.0009   |\n",
      "|    n_updates          | 999      |\n",
      "|    policy_loss        | 0.181    |\n",
      "|    value_loss         | 0.0183   |\n",
      "------------------------------------\n",
      "episode(Day) is :  0\n",
      "episode(Day) is :  1\n",
      "episode(Day) is :  2\n",
      "episode(Day) is :  3\n",
      "episode(Day) is :  4\n",
      "episode(Day) is :  5\n",
      "Account Balance Is :  1201.8499999999983\n",
      "+---------+----------+------------------+---------+-----------------+----------------+----------------------------------------+\n",
      "|   long# |   short# |   Cumulative PnL |    PROM |   Profit factor |   max drawdown | PnLs                                   |\n",
      "+=========+==========+==================+=========+=================+================+========================================+\n",
      "|      99 |      100 |          1201.85 | -1.1235 |         1.17032 |         -312.8 | 1386.9500000000003 -1185.0999999999995 |\n",
      "+---------+----------+------------------+---------+-----------------+----------------+----------------------------------------+\n"
     ]
    },
    {
     "data": {
      "image/png": "[encoded data removed]",
      "text/plain": [
       "<Figure size 648x432 with 1 Axes>"
      ]
     },
     "metadata": {},
     "output_type": "display_data"
    },
    {
     "name": "stdout",
     "output_type": "stream",
     "text": [
      "Runtime: 260 secs\n"
     ]
    }
   ],
   "source": [
    "# start time\n",
    "start = time.time()\n",
    "# check run mode and make study with optuna\n",
    "if Config['RUNNING_MODE'] == 'optimize':\n",
    "    \n",
    "    study_name = Config['study_name']\n",
    "    storage = 'sqlite:///optimization_results.sqlite'\n",
    "    try:\n",
    "        obj_no = Config['number_of_objectives']\n",
    "        directions = [\"maximize\",\"maximize\"] \n",
    "\n",
    "        if obj_no == 1:\n",
    "            study = optuna.create_study(direction=\"maximize\", study_name=study_name, storage=storage)\n",
    "        else:\n",
    "            study = optuna.create_study(directions=directions , study_name=study_name, storage=storage)\n",
    "    except:\n",
    "        study = optuna.load_study(study_name=study_name, storage=storage)\n",
    "        print('- - - - - - Optimization study loaded - - - - - -')\n",
    "    study.optimize(\n",
    "        lambda trial: Main(Config, trial), n_trials=3, n_jobs=1, timeout=None)\n",
    "        \n",
    "else:\n",
    "    \n",
    "    try:\n",
    "        os.mkdir('/results')\n",
    "    except:\n",
    "        pass\n",
    "    Main(Config)\n",
    "\n",
    "# total elapsed time\n",
    "print(f'Runtime: {round(time.time() - start)} secs')"
   ]
  },
  {
   "cell_type": "code",
   "execution_count": 17,
   "metadata": {
    "pycharm": {
     "name": "#%%\n"
    }
   },
   "outputs": [],
   "source": [
    "################################\n",
    "################################"
   ]
  },
  {
   "cell_type": "code",
   "execution_count": null,
   "metadata": {
    "pycharm": {
     "name": "#%%\n"
    }
   },
   "outputs": [],
   "source": [
    "# Data Feature Engineering\n",
    "preProcessedData = FeatureEngineering(Data,Config['Feature_engineering'])\n",
    "LOB_Data_test,LOB_Data_test_unnormal,LOB_Test_dates = preProcessedData.add_all_features()\n",
    "# make test data\n",
    "Data_Test=LOB_Data_test\n",
    "Price_Data_Test = pd.DataFrame(LOB_Data_test_unnormal[['open','high','low','close']]) # just price related columns\n",
    "#Price_Data_Test.reset_index(drop=True,inplace=True)\n",
    "Time_Data_Test = LOB_Test_dates  # just time column\n",
    "# create test env\n",
    "global env_test\n",
    "env_test =  create_env_test(Data_Test.copy(),Price_Data_Test.copy(),Time_Data_Test,Config['env_config_test'])"
   ]
  },
  {
   "cell_type": "code",
   "execution_count": null,
   "metadata": {
    "pycharm": {
     "name": "#%%\n"
    }
   },
   "outputs": [],
   "source": [
    "RL_model = A2C.load('RlSurf-A2C')"
   ]
  },
  {
   "cell_type": "code",
   "execution_count": null,
   "metadata": {
    "pycharm": {
     "name": "#%%\n"
    }
   },
   "outputs": [],
   "source": [
    "# test RL model on test data\n",
    "obs = env_test.get_state()    #~ we should not reset env manullay\n",
    "number_candle=0 \n",
    "\n",
    "while True: \n",
    "\n",
    "    action, _states = RL_model.predict(obs,deterministic=True)\n",
    "\n",
    "    number_candle+=1\n",
    "    obs, rewards, done, info = env_test.step(action)\n",
    "\n",
    "    if done:\n",
    "\n",
    "        if env_test.day_index>= len(env_test.day_indices)-1:\n",
    "                print(\"Account Balance Is : \", info['account_status'])\n",
    "                \n",
    "                break\n",
    "        else:\n",
    "            print('episode(Day) is : ',env_test.episode)\n",
    "            env_test.reset()"
   ]
  },
  {
   "cell_type": "code",
   "execution_count": null,
   "metadata": {
    "pycharm": {
     "name": "#%%\n"
    }
   },
   "outputs": [],
   "source": []
  }
 ],
 "metadata": {
  "kernelspec": {
   "display_name": "Python 3.8.13 ('Ai')",
   "language": "python",
   "name": "python3"
  },
  "language_info": {
   "codemirror_mode": {
    "name": "ipython",
    "version": 3
   },
   "file_extension": ".py",
   "mimetype": "text/x-python",
   "name": "python",
   "nbconvert_exporter": "python",
   "pygments_lexer": "ipython3",
   "version": "3.8.13"
  },
  "orig_nbformat": 4,
  "vscode": {
   "interpreter": {
    "hash": "1af19bf6d9b6220b63f9c4301657dd2793b9b571811340b99da04e342a11312b"
   }
  }
 },
 "nbformat": 4,
 "nbformat_minor": 2
}
